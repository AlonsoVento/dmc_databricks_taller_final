{
 "cells": [
  {
   "cell_type": "code",
   "execution_count": 0,
   "metadata": {
    "application/vnd.databricks.v1+cell": {
     "cellMetadata": {
      "byteLimit": 2048000,
      "rowLimit": 10000
     },
     "inputWidgets": {},
     "nuid": "f72f7e75-d759-4b20-89e2-52c2e7b5f877",
     "showTitle": false,
     "tableResultSettingsMap": {},
     "title": ""
    }
   },
   "outputs": [],
   "source": [
    "catalog_name = \"dmc_tallerfinaldatabricks_mariovento\"\n",
    " \n",
    "schema_silver = \"silver\"\n",
    "schema_gold = \"gold\"\n",
    "schema_gold = \"auditoria\""
   ]
  },
  {
   "cell_type": "code",
   "execution_count": 0,
   "metadata": {
    "application/vnd.databricks.v1+cell": {
     "cellMetadata": {
      "byteLimit": 2048000,
      "implicitDf": true,
      "rowLimit": 10000
     },
     "inputWidgets": {},
     "nuid": "77f1e4d4-61b3-42e8-b820-8989f7ce8d14",
     "showTitle": false,
     "tableResultSettingsMap": {},
     "title": ""
    }
   },
   "outputs": [],
   "source": [
    "%sql\n",
    "CREATE TABLE IF NOT EXISTS dmc_tallerfinaldatabricks_mariovento.auditoria.ingestion_log (\n",
    "  job_id BIGINT NOT NULL COMMENT 'Job id del workflow',\n",
    "  job_run_id BIGINT NOT NULL COMMENT 'Job run id del workflow',\n",
    "  task_run_id BIGINT NOT NULL COMMENT 'Task run id del workflow',\n",
    "  job_start_time TIMESTAMP NOT NULL COMMENT 'Fecha inicio del workflow',\n",
    "  job_end_time TIMESTAMP NOT NULL COMMENT 'Fecha fin del workflow',\n",
    "  job_duration_seconds BIGINT NOT NULL COMMENT 'Duración del workflow',\n",
    "  job_status STRING NOT NULL COMMENT 'Estado del workflow',\n",
    "  table STRING NOT NULL COMMENT 'Nombre de la tabla',\n",
    "  layer STRING NOT NULL COMMENT 'Capa de la tabla',\n",
    "  rows_in BIGINT NOT NULL COMMENT 'Registros ingresados',\n",
    "  rows_inserted BIGINT NOT NULL COMMENT 'Registros insertados',\n",
    "  rows_updated BIGINT NOT NULL COMMENT 'Registros actualizados',\n",
    "  rows_deleted BIGINT NOT NULL COMMENT 'Registros eliminados',\n",
    "  file_bytes BIGINT NOT NULL COMMENT 'Peso del archivo delta',\n",
    "  merge_duration_seconds BIGINT NOT NULL COMMENT 'Duración de la operación merge',\n",
    "  creation_date TIMESTAMP NOT NULL\n",
    ") USING DELTA;"
   ]
  },
  {
   "cell_type": "code",
   "execution_count": 0,
   "metadata": {
    "application/vnd.databricks.v1+cell": {
     "cellMetadata": {
      "byteLimit": 2048000,
      "rowLimit": 10000
     },
     "inputWidgets": {},
     "nuid": "0e8fba7a-2cb1-49eb-9f48-ffdc500eb077",
     "showTitle": false,
     "tableResultSettingsMap": {},
     "title": ""
    }
   },
   "outputs": [],
   "source": [
    "df_ingestion_log = spark.read.table(\"dmc_tallerfinaldatabricks_mariovento.auditoria.ingestion_log\")\n",
    "display(df_ingestion_log)"
   ]
  }
 ],
 "metadata": {
  "application/vnd.databricks.v1+notebook": {
   "computePreferences": {
    "hardware": {
     "accelerator": null,
     "gpuPoolId": null,
     "memory": "HIGH"
    }
   },
   "dashboards": [],
   "environmentMetadata": {
    "base_environment": "",
    "environment_version": "3"
   },
   "inputWidgetPreferences": null,
   "language": "python",
   "notebookMetadata": {
    "mostRecentlyExecutedCommandWithImplicitDF": {
     "commandId": 8862841121417558,
     "dataframes": [
      "_sqldf"
     ]
    },
    "pythonIndentUnit": 4
   },
   "notebookName": "Auditoria",
   "widgets": {}
  },
  "language_info": {
   "name": "python"
  }
 },
 "nbformat": 4,
 "nbformat_minor": 0
}
