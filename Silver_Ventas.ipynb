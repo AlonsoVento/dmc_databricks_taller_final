{
 "cells": [
  {
   "cell_type": "code",
   "execution_count": 0,
   "metadata": {
    "application/vnd.databricks.v1+cell": {
     "cellMetadata": {
      "byteLimit": 2048000,
      "rowLimit": 10000
     },
     "inputWidgets": {},
     "nuid": "b19fbc85-9117-41ab-8637-2d7bc3be180c",
     "showTitle": false,
     "tableResultSettingsMap": {},
     "title": ""
    }
   },
   "outputs": [],
   "source": [
    "catalog_name = \"dmc_tallerfinaldatabricks_mariovento\"\n",
    "\n",
    "schema_bronze = \"bronze\"\n",
    "schema_silver = \"silver\""
   ]
  },
  {
   "cell_type": "code",
   "execution_count": 0,
   "metadata": {
    "application/vnd.databricks.v1+cell": {
     "cellMetadata": {
      "byteLimit": 2048000,
      "rowLimit": 10000
     },
     "inputWidgets": {},
     "nuid": "da4d180c-66ec-446a-870b-be97102533e6",
     "showTitle": false,
     "tableResultSettingsMap": {},
     "title": ""
    }
   },
   "outputs": [],
   "source": [
    "from pyspark.sql.functions import expr, when, trim, col, to_date, row_number\n",
    "from pyspark.sql.window import Window\n",
    "from delta.tables import DeltaTable"
   ]
  },
  {
   "cell_type": "code",
   "execution_count": 0,
   "metadata": {
    "application/vnd.databricks.v1+cell": {
     "cellMetadata": {
      "byteLimit": 2048000,
      "rowLimit": 10000
     },
     "inputWidgets": {},
     "nuid": "19bc209a-67ff-4af6-8d29-7a602dcf1cb1",
     "showTitle": false,
     "tableResultSettingsMap": {},
     "title": ""
    }
   },
   "outputs": [],
   "source": [
    "silver_ventas = (\n",
    "    spark.table(f\"{catalog_name}.{schema_bronze}.ventasbase_raw\")  # Lee la tabla raw\n",
    "    .withColumn(\"id_venta\", expr(\"try_cast(id_venta as int)\"))  # Convierte id_venta a entero\n",
    "    .withColumn(\"id_cliente\", expr(\"try_cast(id_cliente as int)\"))  # Convierte id_cliente a entero\n",
    "    .withColumn(\"id_tienda\", expr(\"try_cast(id_tienda as int)\"))  # Convierte id_tienda a entero\n",
    "    .withColumn(\"id_producto\", expr(\"try_cast(id_producto as int)\"))  # Convierte id_producto a entero\n",
    "    # Corrige la columna cantidad: si es \"diez\" la pone en 10, si no intenta convertir a entero\n",
    "    .withColumn(\"cantidad\", when(trim(col(\"cantidad\")) == \"diez\", 10)\n",
    "        .otherwise(expr(\"try_cast(cantidad as int)\"))\n",
    "    )\n",
    "    .withColumn(\"monto\", col(\"monto\").cast(\"double\"))  # Convierte monto a double\n",
    "    # Si el monto es negativo, lo corrige a 0 en monto_corregido\n",
    "    .withColumn(\"monto_corregido\", when(col(\"monto\") < 0, 0).otherwise(col(\"monto\")))\n",
    "    # Marca si el monto fue corregido o no\n",
    "    .withColumn(\"estado_monto\", when(col(\"monto\") < 0, \"Corregido\").otherwise(\"No corregido\"))\n",
    "    # Limpia y normaliza la fecha de venta en varios formatos posibles\n",
    "    .withColumn(\n",
    "        \"fecha_venta\",\n",
    "        when(col(\"fecha_venta\") == \"N/A\", None)\n",
    "        .when(col(\"fecha_venta\").rlike(\"^[0-9]{4}-[0-9]{2}-[0-9]{2}$\"), to_date(col(\"fecha_venta\"), \"yyyy-MM-dd\").cast(\"timestamp\"))\n",
    "        .when(col(\"fecha_venta\").rlike(\"^[0-9]{2}-[0-9]{2}-[0-9]{4}$\"), to_date(col(\"fecha_venta\"), \"MM-dd-yyyy\").cast(\"timestamp\"))\n",
    "        .when(col(\"fecha_venta\").rlike(\"^[0-9]{2}/[0-9]{2}/[0-9]{4}$\"), to_date(col(\"fecha_venta\"), \"dd/MM/yyyy\").cast(\"timestamp\"))\n",
    "        .when(col(\"fecha_venta\").rlike(\"^[0-9]{4}/[0-9]{2}/[0-9]{2} [0-9]{2}:[0-9]{2}:[0-9]{2}$\"), to_date(col(\"fecha_venta\"), \"yyyy/MM/dd HH:mm:ss\").cast(\"timestamp\"))  \n",
    "        .otherwise(None)\n",
    "    )\n",
    "    # Limpia y normaliza la fecha de actualización en varios formatos posibles\n",
    "    .withColumn(\n",
    "        \"updated_at\",\n",
    "        when(col(\"updated_at\") == \"N/A\", None)\n",
    "        .when(col(\"updated_at\").rlike(\"^[0-9]{4}-[0-9]{2}-[0-9]{2}$\"), to_date(col(\"updated_at\"), \"yyyy-MM-dd\").cast(\"timestamp\"))\n",
    "        .when(col(\"updated_at\").rlike(\"^[0-9]{2}-[0-9]{2}-[0-9]{4}$\"), to_date(col(\"updated_at\"), \"MM-dd-yyyy\").cast(\"timestamp\"))\n",
    "        .when(col(\"updated_at\").rlike(\"^[0-9]{2}/[0-9]{2}/[0-9]{4}$\"), to_date(col(\"updated_at\"), \"dd/MM/yyyy\").cast(\"timestamp\"))\n",
    "        .when(col(\"updated_at\").rlike(\"^[0-9]{4}/[0-9]{2}/[0-9]{2} [0-9]{2}:[0-9]{2}:[0-9]{2}$\"), to_date(col(\"updated_at\"), \"yyyy/MM/dd HH:mm:ss\").cast(\"timestamp\"))  \n",
    "        .otherwise(None)\n",
    "    )\n",
    "    .dropDuplicates([\"id_venta\"])  # Elimina duplicados por id_venta\n",
    "    .select(\n",
    "        \"id_venta\", \"id_cliente\", \"id_tienda\", \"id_producto\", \"cantidad\",\n",
    "        \"monto\", \"monto_corregido\", \"estado_monto\",\n",
    "        \"fecha_venta\", \"updated_at\"\n",
    "    )  # Selecciona solo las columnas relevantes\n",
    ")"
   ]
  },
  {
   "cell_type": "code",
   "execution_count": 0,
   "metadata": {
    "application/vnd.databricks.v1+cell": {
     "cellMetadata": {
      "byteLimit": 2048000,
      "rowLimit": 10000
     },
     "inputWidgets": {},
     "nuid": "109593b9-5e4f-4f60-b0dd-8e15a0d2c125",
     "showTitle": false,
     "tableResultSettingsMap": {},
     "title": ""
    }
   },
   "outputs": [],
   "source": [
    "display(silver_ventas)"
   ]
  },
  {
   "cell_type": "code",
   "execution_count": 0,
   "metadata": {
    "application/vnd.databricks.v1+cell": {
     "cellMetadata": {
      "byteLimit": 2048000,
      "rowLimit": 10000
     },
     "inputWidgets": {},
     "nuid": "ed640025-3c98-40a0-8aec-7080c1dedf69",
     "showTitle": true,
     "tableResultSettingsMap": {},
     "title": "Deduplicación tabla Ventas Base"
    }
   },
   "outputs": [],
   "source": [
    "windows_dedup = Window.partitionBy(\"id_venta\", \"id_producto\").orderBy(col(\"updated_at\").desc())\n",
    "\n",
    "silver_ventas_dedup = (\n",
    "    silver_ventas\n",
    "    .withColumn(\"dedup\", row_number().over(windows_dedup))\n",
    "    .filter(col(\"dedup\") == 1)\n",
    "    .drop(\"dedup\")\n",
    ")"
   ]
  },
  {
   "cell_type": "code",
   "execution_count": 0,
   "metadata": {
    "application/vnd.databricks.v1+cell": {
     "cellMetadata": {
      "byteLimit": 2048000,
      "rowLimit": 10000
     },
     "inputWidgets": {},
     "nuid": "db04ff0e-e612-4e1c-b2c3-d21e3e59d490",
     "showTitle": false,
     "tableResultSettingsMap": {},
     "title": ""
    }
   },
   "outputs": [],
   "source": [
    "silver_ventas_dedup.write.format(\"delta\").mode(\"overwrite\").saveAsTable(f\"{catalog_name}.{schema_silver}.ventas\")"
   ]
  },
  {
   "cell_type": "code",
   "execution_count": 0,
   "metadata": {
    "application/vnd.databricks.v1+cell": {
     "cellMetadata": {
      "byteLimit": 2048000,
      "implicitDf": true,
      "rowLimit": 10000
     },
     "inputWidgets": {},
     "nuid": "fc825329-2f1d-4ff8-b475-18540b1eda83",
     "showTitle": false,
     "tableResultSettingsMap": {},
     "title": ""
    }
   },
   "outputs": [],
   "source": [
    "%sql\n",
    "select count (*) FROM dmc_tallerfinaldatabricks_mariovento.silver.ventas"
   ]
  },
  {
   "cell_type": "code",
   "execution_count": 0,
   "metadata": {
    "application/vnd.databricks.v1+cell": {
     "cellMetadata": {
      "byteLimit": 2048000,
      "rowLimit": 10000
     },
     "inputWidgets": {},
     "nuid": "8ee998be-64c5-4870-b5aa-519ccb931054",
     "showTitle": true,
     "tableResultSettingsMap": {},
     "title": "Ingesta ventas_incremento"
    }
   },
   "outputs": [],
   "source": [
    "path_base = \"/Volumes/dmc_tallerfinaldatabricks_mariovento/default/input\"\n",
    "\n",
    "path_ventas_incremento = f\"{path_base}/ventas_incremento.csv\""
   ]
  },
  {
   "cell_type": "code",
   "execution_count": 0,
   "metadata": {
    "application/vnd.databricks.v1+cell": {
     "cellMetadata": {
      "byteLimit": 2048000,
      "rowLimit": 10000
     },
     "inputWidgets": {},
     "nuid": "33a3ce6e-f5c1-40d7-8f1f-00348222aad2",
     "showTitle": false,
     "tableResultSettingsMap": {},
     "title": ""
    }
   },
   "outputs": [],
   "source": [
    "ventas_incremento = spark.read.option(\"header\", True).option(\"inferSchema\", False).csv(path_ventas_incremento)"
   ]
  },
  {
   "cell_type": "code",
   "execution_count": 0,
   "metadata": {
    "application/vnd.databricks.v1+cell": {
     "cellMetadata": {
      "byteLimit": 2048000,
      "rowLimit": 10000
     },
     "inputWidgets": {},
     "nuid": "e39d327c-af2f-4a29-b92f-10f3749d6ab0",
     "showTitle": false,
     "tableResultSettingsMap": {},
     "title": ""
    }
   },
   "outputs": [],
   "source": [
    "display(ventas_incremento)"
   ]
  },
  {
   "cell_type": "code",
   "execution_count": 0,
   "metadata": {
    "application/vnd.databricks.v1+cell": {
     "cellMetadata": {
      "byteLimit": 2048000,
      "rowLimit": 10000
     },
     "inputWidgets": {},
     "nuid": "2df7a37b-66d2-4214-a5b0-304d348bfc21",
     "showTitle": false,
     "tableResultSettingsMap": {},
     "title": ""
    }
   },
   "outputs": [],
   "source": [
    "ventas_incremento_normalizado = (\n",
    "    ventas_incremento\n",
    "    # Convierte las columnas de IDs a tipo bigint\n",
    "    .withColumn(\"id_venta\", col(\"id_venta\").cast(\"bigint\"))\n",
    "    .withColumn(\"id_cliente\", col(\"id_cliente\").cast(\"bigint\"))\n",
    "    .withColumn(\"id_tienda\", col(\"id_tienda\").cast(\"bigint\"))\n",
    "    .withColumn(\"id_producto\", col(\"id_producto\").cast(\"bigint\"))\n",
    "    # Normaliza la columna cantidad: si es \"5u\" la pone en 5, si no intenta convertir a entero\n",
    "    .withColumn(\"cantidad\", when(trim(col(\"cantidad\")) == \"5u\", 5) \n",
    "        .otherwise(col(\"cantidad\").cast(\"int\"))\n",
    "    )\n",
    "    # Convierte monto a decimal con 2 decimales\n",
    "    .withColumn(\"monto\", col(\"monto\").cast(\"decimal(18,2)\"))\n",
    "    # Limpia y normaliza la fecha de venta en varios formatos posibles\n",
    "    .withColumn(\n",
    "        \"fecha_venta\",\n",
    "        when(col(\"fecha_venta\") == \"N/A\", None)\n",
    "        .when(col(\"fecha_venta\").rlike(\"^[0-9]{4}-[0-9]{2}-[0-9]{2}$\"), to_date(col(\"fecha_venta\"), \"yyyy-MM-dd\").cast(\"timestamp\"))\n",
    "        .when(col(\"fecha_venta\").rlike(\"^[0-9]{2}-[0-9]{2}-[0-9]{4}$\"), to_date(col(\"fecha_venta\"), \"MM-dd-yyyy\").cast(\"timestamp\"))\n",
    "        .when(col(\"fecha_venta\").rlike(\"^[0-9]{2}/[0-9]{2}/[0-9]{4}$\"), to_date(col(\"fecha_venta\"), \"dd/MM/yyyy\").cast(\"timestamp\"))\n",
    "        .when(col(\"fecha_venta\").rlike(\"^[0-9]{4}/[0-9]{2}/[0-9]{2} [0-9]{2}:[0-9]{2}:[0-9]{2}$\"), to_date(col(\"fecha_venta\"), \"yyyy/MM/dd HH:mm:ss\").cast(\"timestamp\"))  \n",
    "        .otherwise(None)\n",
    "    )\n",
    "    # Limpia y normaliza la fecha de actualización en varios formatos posibles\n",
    "    .withColumn(\n",
    "        \"updated_at\",\n",
    "        when(col(\"updated_at\") == \"N/A\", None)\n",
    "        .when(col(\"updated_at\").rlike(\"^[0-9]{4}-[0-9]{2}-[0-9]{2}$\"), to_date(col(\"updated_at\"), \"yyyy-MM-dd\").cast(\"timestamp\"))\n",
    "        .when(col(\"updated_at\").rlike(\"^[0-9]{2}-[0-9]{2}-[0-9]{4}$\"), to_date(col(\"updated_at\"), \"MM-dd-yyyy\").cast(\"timestamp\"))\n",
    "        .when(col(\"updated_at\").rlike(\"^[0-9]{2}/[0-9]{2}/[0-9]{4}$\"), to_date(col(\"updated_at\"), \"dd/MM/yyyy\").cast(\"timestamp\"))\n",
    "        .when(col(\"updated_at\").rlike(\"^[0-9]{4}/[0-9]{2}/[0-9]{2} [0-9]{2}:[0-9]{2}:[0-9]{2}$\"), to_date(col(\"updated_at\"), \"yyyy/MM/dd HH:mm:ss\").cast(\"timestamp\"))  \n",
    "        .otherwise(None)\n",
    "    )\n",
    "    # Elimina duplicados por id_venta\n",
    "    .dropDuplicates([\"id_venta\"])\n",
    "    # Selecciona solo las columnas relevantes\n",
    "    .select(\n",
    "        \"id_venta\", \"id_cliente\", \"id_tienda\", \"id_producto\", \"cantidad\",\n",
    "        \"monto\", \"fecha_venta\", \"updated_at\"\n",
    "    )\n",
    ")"
   ]
  },
  {
   "cell_type": "code",
   "execution_count": 0,
   "metadata": {
    "application/vnd.databricks.v1+cell": {
     "cellMetadata": {
      "byteLimit": 2048000,
      "rowLimit": 10000
     },
     "inputWidgets": {},
     "nuid": "5c5f37fd-4e18-48dc-9715-8fa1c8692021",
     "showTitle": false,
     "tableResultSettingsMap": {},
     "title": ""
    }
   },
   "outputs": [],
   "source": [
    "ventas_incremento_normalizado.count()"
   ]
  },
  {
   "cell_type": "code",
   "execution_count": 0,
   "metadata": {
    "application/vnd.databricks.v1+cell": {
     "cellMetadata": {
      "byteLimit": 2048000,
      "rowLimit": 10000
     },
     "inputWidgets": {},
     "nuid": "50cefc36-caa8-490b-8b1f-6bd79979942f",
     "showTitle": true,
     "tableResultSettingsMap": {},
     "title": "Deduplicación tabla Ventas_Incremento"
    }
   },
   "outputs": [],
   "source": [
    "windows_dedup = Window.partitionBy(\"id_venta\", \"id_producto\").orderBy(col(\"updated_at\").desc())\n",
    "\n",
    "ventas_incremento_dedup = (\n",
    "    ventas_incremento_normalizado\n",
    "    .withColumn(\"dedup\", row_number().over(windows_dedup))\n",
    "    .filter(col(\"dedup\") == 1)\n",
    "    .drop(\"dedup\")\n",
    ")"
   ]
  },
  {
   "cell_type": "code",
   "execution_count": 0,
   "metadata": {
    "application/vnd.databricks.v1+cell": {
     "cellMetadata": {
      "byteLimit": 2048000,
      "rowLimit": 10000
     },
     "inputWidgets": {},
     "nuid": "a57cf706-f008-4fad-867e-aa6abe3244bd",
     "showTitle": false,
     "tableResultSettingsMap": {},
     "title": ""
    }
   },
   "outputs": [],
   "source": [
    "ventas_incremento_normalizado.count()"
   ]
  },
  {
   "cell_type": "code",
   "execution_count": 0,
   "metadata": {
    "application/vnd.databricks.v1+cell": {
     "cellMetadata": {
      "byteLimit": 2048000,
      "rowLimit": 10000
     },
     "inputWidgets": {},
     "nuid": "76fd38eb-96e4-463d-8b0b-21a966e9407d",
     "showTitle": true,
     "tableResultSettingsMap": {},
     "title": "Merge a Ventas"
    }
   },
   "outputs": [],
   "source": [
    "##MERGE\n",
    "# Obtiene la tabla Delta de ventas en el esquema silver\n",
    "target = DeltaTable.forName(spark, f\"{catalog_name}.{schema_silver}.ventas\")\n",
    "\n",
    "# Realiza un MERGE entre la tabla target y los datos nuevos (ventas_incremento_dedup)\n",
    "merge = (\n",
    "    target.alias(\"m\")\n",
    "    .merge(\n",
    "        ventas_incremento_dedup.alias(\"in\"),\n",
    "        # Condición de coincidencia: mismo id_venta y id_producto\n",
    "        (col(\"m.id_venta\") == col(\"in.id_venta\")) &\n",
    "        (col(\"m.id_producto\") == col(\"in.id_producto\"))\n",
    "    )\n",
    "    # Si hay coincidencia y la fecha de actualización del incremento es mayor, actualiza los datos\n",
    "    .whenMatchedUpdate(\n",
    "        condition= \"in.updated_at > m.updated_at\",\n",
    "        set = {\n",
    "            \"id_cliente\": col(\"in.id_cliente\"),\n",
    "            \"id_tienda\": col(\"in.id_tienda\"),\n",
    "            \"id_producto\": col(\"in.id_producto\"),\n",
    "            \"cantidad\": col(\"in.cantidad\"),\n",
    "            \"monto\": col(\"in.monto\"),\n",
    "            \"fecha_venta\": col(\"in.fecha_venta\"),\n",
    "            \"updated_at\": col(\"in.updated_at\")\n",
    "        }\n",
    "    )\n",
    "    # Si no hay coincidencia, inserta el nuevo registro\n",
    "    .whenNotMatchedInsert(\n",
    "        values = {\n",
    "            \"id_venta\": col(\"in.id_venta\"),\n",
    "            \"id_cliente\": col(\"in.id_cliente\"),\n",
    "            \"id_tienda\": col(\"in.id_tienda\"),\n",
    "            \"id_producto\": col(\"in.id_producto\"),\n",
    "            \"cantidad\": col(\"in.cantidad\"),\n",
    "            \"monto\": col(\"in.monto\"),\n",
    "            \"fecha_venta\": col(\"in.fecha_venta\"),\n",
    "            \"updated_at\": col(\"in.updated_at\")\n",
    "        }\n",
    "    )\n",
    "    .execute()  # Ejecuta el MERGE\n",
    ")"
   ]
  },
  {
   "cell_type": "code",
   "execution_count": 0,
   "metadata": {
    "application/vnd.databricks.v1+cell": {
     "cellMetadata": {
      "byteLimit": 2048000,
      "implicitDf": true,
      "rowLimit": 10000
     },
     "inputWidgets": {},
     "nuid": "0d1b3465-ba50-4e10-855d-c480b58a1cb4",
     "showTitle": false,
     "tableResultSettingsMap": {},
     "title": ""
    }
   },
   "outputs": [],
   "source": [
    "%sql\n",
    "select count (*) from dmc_tallerfinaldatabricks_mariovento.silver.ventas"
   ]
  }
 ],
 "metadata": {
  "application/vnd.databricks.v1+notebook": {
   "computePreferences": {
    "hardware": {
     "accelerator": null,
     "gpuPoolId": null,
     "memory": "HIGH"
    }
   },
   "dashboards": [],
   "environmentMetadata": {
    "base_environment": "",
    "environment_version": "3"
   },
   "inputWidgetPreferences": null,
   "language": "python",
   "notebookMetadata": {
    "mostRecentlyExecutedCommandWithImplicitDF": {
     "commandId": 7994159143973099,
     "dataframes": [
      "_sqldf"
     ]
    },
    "pythonIndentUnit": 4
   },
   "notebookName": "Silver_Ventas",
   "widgets": {}
  },
  "language_info": {
   "name": "python"
  }
 },
 "nbformat": 4,
 "nbformat_minor": 0
}
