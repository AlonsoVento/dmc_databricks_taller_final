{
 "cells": [
  {
   "cell_type": "code",
   "execution_count": 0,
   "metadata": {
    "application/vnd.databricks.v1+cell": {
     "cellMetadata": {
      "byteLimit": 2048000,
      "rowLimit": 10000
     },
     "inputWidgets": {},
     "nuid": "b9dbed2a-89b2-424e-839d-4a5c6a2e4c36",
     "showTitle": false,
     "tableResultSettingsMap": {},
     "title": ""
    }
   },
   "outputs": [],
   "source": [
    "catalog_name = \"dmc_tallerfinaldatabricks_mariovento\"\n",
    " \n",
    "schema_silver = \"silver\"\n",
    "schema_gold = \"gold\"\n",
    "schema_gold = \"auditoria\""
   ]
  },
  {
   "cell_type": "code",
   "execution_count": 0,
   "metadata": {
    "application/vnd.databricks.v1+cell": {
     "cellMetadata": {
      "byteLimit": 2048000,
      "implicitDf": true,
      "rowLimit": 10000
     },
     "inputWidgets": {},
     "nuid": "05f99e94-5520-431d-bd12-487a33e3a4a1",
     "showTitle": true,
     "tableResultSettingsMap": {},
     "title": "KPI - Ticket promedio por tienda y mes"
    }
   },
   "outputs": [],
   "source": [
    "%sql\n",
    "CREATE OR REPLACE VIEW dmc_tallerfinaldatabricks_mariovento.gold.kpi_ticket_promedio_tienda_mes AS\n",
    "SELECT \n",
    "    t.sk_tienda,\n",
    "    dt.anio,\n",
    "    dt.mes,\n",
    "    ROUND(SUM(f.monto) / NULLIF(SUM(f.cantidad), 0), 2) AS ticket_promedio\n",
    "FROM dmc_tallerfinaldatabricks_mariovento.gold.fact_ventas f\n",
    "JOIN dmc_tallerfinaldatabricks_mariovento.gold.dim_tienda t ON f.sk_tienda = t.sk_tienda\n",
    "JOIN dmc_tallerfinaldatabricks_mariovento.gold.dim_tiempo dt ON f.sk_tiempo = dt.sk_tiempo\n",
    "GROUP BY t.sk_tienda, dt.anio, dt.mes;"
   ]
  },
  {
   "cell_type": "code",
   "execution_count": 0,
   "metadata": {
    "application/vnd.databricks.v1+cell": {
     "cellMetadata": {
      "byteLimit": 2048000,
      "implicitDf": true,
      "rowLimit": 10000
     },
     "inputWidgets": {},
     "nuid": "8a32f8a1-4a85-4304-bcac-3da2390ffdd5",
     "showTitle": false,
     "tableResultSettingsMap": {},
     "title": ""
    }
   },
   "outputs": [],
   "source": [
    "%sql\n",
    "SELECT * FROM dmc_tallerfinaldatabricks_mariovento.gold.kpi_ticket_promedio_tienda_mes;"
   ]
  },
  {
   "cell_type": "code",
   "execution_count": 0,
   "metadata": {
    "application/vnd.databricks.v1+cell": {
     "cellMetadata": {
      "byteLimit": 2048000,
      "implicitDf": true,
      "rowLimit": 10000
     },
     "inputWidgets": {},
     "nuid": "2579d127-f22d-4558-b048-b2c6f525cd4d",
     "showTitle": true,
     "tableResultSettingsMap": {},
     "title": "KPI - Clientes nuevos por mes"
    }
   },
   "outputs": [],
   "source": [
    "%sql\n",
    "CREATE OR REPLACE VIEW dmc_tallerfinaldatabricks_mariovento.gold.kpi_clientes_nuevos_mes AS\n",
    "WITH primeras_compras AS (\n",
    "    SELECT \n",
    "        f.sk_cliente,\n",
    "        MIN(f.fecha_venta) AS primera_compra\n",
    "    FROM dmc_tallerfinaldatabricks_mariovento.gold.fact_ventas f\n",
    "    GROUP BY f.sk_cliente\n",
    ")\n",
    "SELECT \n",
    "    dt.anio,\n",
    "    dt.mes,\n",
    "    COUNT(pc.sk_cliente) AS clientes_nuevos\n",
    "FROM primeras_compras pc\n",
    "JOIN dmc_tallerfinaldatabricks_mariovento.gold.dim_tiempo dt ON TO_DATE(pc.primera_compra) = dt.fecha\n",
    "GROUP BY dt.anio, dt.mes;"
   ]
  },
  {
   "cell_type": "code",
   "execution_count": 0,
   "metadata": {
    "application/vnd.databricks.v1+cell": {
     "cellMetadata": {
      "byteLimit": 2048000,
      "implicitDf": true,
      "rowLimit": 10000
     },
     "inputWidgets": {},
     "nuid": "811de66f-7dec-49c3-9d43-ec9992c16bae",
     "showTitle": false,
     "tableResultSettingsMap": {},
     "title": ""
    }
   },
   "outputs": [],
   "source": [
    "%sql\n",
    "SELECT * FROM dmc_tallerfinaldatabricks_mariovento.gold.kpi_clientes_nuevos_mes;"
   ]
  },
  {
   "cell_type": "code",
   "execution_count": 0,
   "metadata": {
    "application/vnd.databricks.v1+cell": {
     "cellMetadata": {
      "byteLimit": 2048000,
      "implicitDf": true,
      "rowLimit": 10000
     },
     "inputWidgets": {},
     "nuid": "7d65a7b5-7a5d-42b1-9939-ea386f811e78",
     "showTitle": true,
     "tableResultSettingsMap": {},
     "title": "KPI - Tasa de devolución"
    }
   },
   "outputs": [],
   "source": [
    "%sql\n",
    "CREATE OR REPLACE VIEW dmc_tallerfinaldatabricks_mariovento.gold.kpi_tasa_devolucion AS\n",
    "SELECT \n",
    "    dt.anio,\n",
    "    dt.mes,\n",
    "    COUNT(DISTINCT d.id_venta) * 1.0 / COUNT(DISTINCT f.id_venta) AS tasa_devolucion\n",
    "FROM dmc_tallerfinaldatabricks_mariovento.gold.fact_ventas f\n",
    "JOIN dmc_tallerfinaldatabricks_mariovento.gold.dim_tiempo dt ON f.sk_tiempo = dt.sk_tiempo\n",
    "LEFT JOIN dmc_tallerfinaldatabricks_mariovento.silver.devoluciones d ON f.id_venta = d.id_venta\n",
    "GROUP BY dt.anio, dt.mes;"
   ]
  },
  {
   "cell_type": "code",
   "execution_count": 0,
   "metadata": {
    "application/vnd.databricks.v1+cell": {
     "cellMetadata": {
      "byteLimit": 2048000,
      "implicitDf": true,
      "rowLimit": 10000
     },
     "inputWidgets": {},
     "nuid": "1eef1ad2-84f9-44a0-9883-7465d4e0b2dd",
     "showTitle": false,
     "tableResultSettingsMap": {},
     "title": ""
    }
   },
   "outputs": [],
   "source": [
    "%sql\n",
    "SELECT * FROM dmc_tallerfinaldatabricks_mariovento.gold.kpi_tasa_devolucion;"
   ]
  },
  {
   "cell_type": "code",
   "execution_count": 0,
   "metadata": {
    "application/vnd.databricks.v1+cell": {
     "cellMetadata": {
      "byteLimit": 2048000,
      "implicitDf": true,
      "rowLimit": 10000
     },
     "inputWidgets": {},
     "nuid": "65b93518-be12-42b5-805d-e0954883f4eb",
     "showTitle": true,
     "tableResultSettingsMap": {},
     "title": "KPI - Crecimiento MoM por categoría"
    }
   },
   "outputs": [],
   "source": [
    "%sql\n",
    "CREATE OR REPLACE VIEW dmc_tallerfinaldatabricks_mariovento.gold.kpi_crecimiento_mom_categoria AS\n",
    "WITH ventas_mes AS (\n",
    "    SELECT \n",
    "        p.categoria,\n",
    "        dt.anio,\n",
    "        dt.mes,\n",
    "        SUM(f.monto) AS ventas_mes\n",
    "    FROM dmc_tallerfinaldatabricks_mariovento.gold.fact_ventas f\n",
    "    JOIN dmc_tallerfinaldatabricks_mariovento.gold.dim_producto p ON f.sk_producto = p.sk_producto\n",
    "    JOIN dmc_tallerfinaldatabricks_mariovento.gold.dim_tiempo dt ON f.sk_tiempo = dt.sk_tiempo\n",
    "    GROUP BY p.categoria, dt.anio, dt.mes\n",
    ")\n",
    "SELECT \n",
    "    categoria,\n",
    "    anio,\n",
    "    mes,\n",
    "    ventas_mes,\n",
    "    LAG(ventas_mes) OVER (PARTITION BY categoria ORDER BY anio, mes) AS ventas_mes_anterior,\n",
    "    ROUND(\n",
    "        (ventas_mes - LAG(ventas_mes) OVER (PARTITION BY categoria ORDER BY anio, mes)) \n",
    "        / NULLIF(LAG(ventas_mes) OVER (PARTITION BY categoria ORDER BY anio, mes),0), 4\n",
    "    ) AS crecimiento_mom\n",
    "FROM ventas_mes;"
   ]
  },
  {
   "cell_type": "code",
   "execution_count": 0,
   "metadata": {
    "application/vnd.databricks.v1+cell": {
     "cellMetadata": {
      "byteLimit": 2048000,
      "implicitDf": true,
      "rowLimit": 10000
     },
     "inputWidgets": {},
     "nuid": "580288db-628f-4932-8da1-19889473ffb1",
     "showTitle": false,
     "tableResultSettingsMap": {},
     "title": ""
    }
   },
   "outputs": [],
   "source": [
    "%sql\n",
    "SELECT * FROM dmc_tallerfinaldatabricks_mariovento.gold.kpi_crecimiento_mom_categoria;"
   ]
  },
  {
   "cell_type": "code",
   "execution_count": 0,
   "metadata": {
    "application/vnd.databricks.v1+cell": {
     "cellMetadata": {
      "byteLimit": 2048000,
      "implicitDf": true,
      "rowLimit": 10000
     },
     "inputWidgets": {},
     "nuid": "53ad60cf-e49a-44ec-8cbd-abe772a1ee82",
     "showTitle": true,
     "tableResultSettingsMap": {},
     "title": "KPI - Resumen incremental de la última corrida"
    }
   },
   "outputs": [],
   "source": [
    "%sql\n",
    "CREATE OR REPLACE VIEW dmc_tallerfinaldatabricks_mariovento.gold.kpi_resumen_incremental AS\n",
    "SELECT \n",
    "    job_id,\n",
    "    job_run_id,\n",
    "    task_run_id,\n",
    "    job_start_time,\n",
    "    job_end_time,\n",
    "    rows_inserted,\n",
    "    rows_updated,\n",
    "    rows_deleted,\n",
    "    merge_duration_seconds\n",
    "FROM dmc_tallerfinaldatabricks_mariovento.auditoria.ingestion_log\n",
    "WHERE job_start_time = (\n",
    "    SELECT MAX(job_start_time) \n",
    "    FROM dmc_tallerfinaldatabricks_mariovento.auditoria.ingestion_log\n",
    ");"
   ]
  },
  {
   "cell_type": "code",
   "execution_count": 0,
   "metadata": {
    "application/vnd.databricks.v1+cell": {
     "cellMetadata": {
      "byteLimit": 2048000,
      "implicitDf": true,
      "rowLimit": 10000
     },
     "inputWidgets": {},
     "nuid": "5f2fcc1a-854c-4f09-9fcb-461ea94925ba",
     "showTitle": false,
     "tableResultSettingsMap": {},
     "title": ""
    }
   },
   "outputs": [],
   "source": [
    "%sql\n",
    "SELECT * FROM dmc_tallerfinaldatabricks_mariovento.gold.kpi_resumen_incremental;"
   ]
  }
 ],
 "metadata": {
  "application/vnd.databricks.v1+notebook": {
   "computePreferences": null,
   "dashboards": [],
   "environmentMetadata": {
    "base_environment": "",
    "environment_version": "3"
   },
   "inputWidgetPreferences": null,
   "language": "python",
   "notebookMetadata": {
    "mostRecentlyExecutedCommandWithImplicitDF": {
     "commandId": 8862841121417587,
     "dataframes": [
      "_sqldf"
     ]
    },
    "pythonIndentUnit": 4
   },
   "notebookName": "KPI y Vistas",
   "widgets": {}
  },
  "language_info": {
   "name": "python"
  }
 },
 "nbformat": 4,
 "nbformat_minor": 0
}
