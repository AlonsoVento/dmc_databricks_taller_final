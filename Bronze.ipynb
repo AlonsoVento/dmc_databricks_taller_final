{
 "cells": [
  {
   "cell_type": "code",
   "execution_count": 0,
   "metadata": {
    "application/vnd.databricks.v1+cell": {
     "cellMetadata": {
      "byteLimit": 2048000,
      "rowLimit": 10000
     },
     "inputWidgets": {},
     "nuid": "d64d5605-4e61-4ec7-b88f-197533266f83",
     "showTitle": false,
     "tableResultSettingsMap": {},
     "title": ""
    }
   },
   "outputs": [],
   "source": [
    "# Eliminar catálogo\n",
    "from pyspark.sql import SparkSession\n",
    "\n",
    "# Crear/usar sesión de Spark\n",
    "spark = SparkSession.builder.getOrCreate()\n",
    "\n",
    "# Nombre del catálogo a eliminar\n",
    "catalog_name = \"dmc_tallerfinaldatabricks_mariovento\"\n",
    "\n",
    "# Ejecutar el comando SQL para eliminar el catálogo\n",
    "spark.sql(f\"DROP CATALOG IF EXISTS {catalog_name} CASCADE\")"
   ]
  },
  {
   "cell_type": "code",
   "execution_count": 0,
   "metadata": {
    "application/vnd.databricks.v1+cell": {
     "cellMetadata": {
      "byteLimit": 2048000,
      "rowLimit": 10000
     },
     "inputWidgets": {},
     "nuid": "c540745e-c7d9-420f-a972-050e3a81c36e",
     "showTitle": false,
     "tableResultSettingsMap": {},
     "title": ""
    }
   },
   "outputs": [],
   "source": [
    "#Creación catálogo\n",
    "catalog_name = \"dmc_tallerfinaldatabricks_mariovento\"\n",
    "schema_bronze = \"bronze\"\n",
    "schema_silver = \"silver\"\n",
    "schema_gold = \"gold\"\n",
    "schema_audit = \"auditoria\""
   ]
  },
  {
   "cell_type": "code",
   "execution_count": 0,
   "metadata": {
    "application/vnd.databricks.v1+cell": {
     "cellMetadata": {
      "byteLimit": 2048000,
      "rowLimit": 10000
     },
     "inputWidgets": {},
     "nuid": "19c7ddfd-9aa9-4268-8650-e2409a154713",
     "showTitle": true,
     "tableResultSettingsMap": {},
     "title": "Se crea catálogo"
    }
   },
   "outputs": [],
   "source": [
    "spark.sql(f\"CREATE CATALOG IF NOT EXISTS {catalog_name}\")\n",
    "\n",
    "spark.sql(f\"CREATE SCHEMA IF NOT EXISTS {catalog_name}.{schema_bronze}\")\n",
    "spark.sql(f\"CREATE SCHEMA IF NOT EXISTS {catalog_name}.{schema_silver}\")\n",
    "spark.sql(f\"CREATE SCHEMA IF NOT EXISTS {catalog_name}.{schema_gold}\")\n",
    "spark.sql(f\"CREATE SCHEMA IF NOT EXISTS {catalog_name}.{schema_audit}\")\n",
    "\n",
    "spark.sql(f\"CREATE VOLUME IF NOT EXISTS {catalog_name}.default.input\")\n"
   ]
  },
  {
   "cell_type": "code",
   "execution_count": 0,
   "metadata": {
    "application/vnd.databricks.v1+cell": {
     "cellMetadata": {
      "byteLimit": 2048000,
      "rowLimit": 10000
     },
     "inputWidgets": {},
     "nuid": "f46fc649-bf89-4a4b-ad8b-5e684b384834",
     "showTitle": true,
     "tableResultSettingsMap": {},
     "title": "Ingesta de información y guardado en tablas delta"
    }
   },
   "outputs": [],
   "source": [
    "path_base = \"/Volumes/dmc_tallerfinaldatabricks_mariovento/default/input\"\n",
    "\n",
    "path_clientes = f\"{path_base}/clientes.csv\"\n",
    "path_tiendas = f\"{path_base}/tiendas.csv\"\n",
    "path_productos = f\"{path_base}/productos.csv\"\n",
    "path_ventasbase = f\"{path_base}/ventas_base.csv\"\n",
    "path_devoluciones = f\"{path_base}/devoluciones.csv\""
   ]
  },
  {
   "cell_type": "code",
   "execution_count": 0,
   "metadata": {
    "application/vnd.databricks.v1+cell": {
     "cellMetadata": {
      "byteLimit": 2048000,
      "rowLimit": 10000
     },
     "inputWidgets": {},
     "nuid": "1b249ec1-cce2-420c-9f02-45e4e73bc9eb",
     "showTitle": true,
     "tableResultSettingsMap": {},
     "title": "Columnas en STRING"
    }
   },
   "outputs": [],
   "source": [
    "clientes_raw = spark.read.option(\"header\", True).option(\"inferSchema\", False).csv(path_clientes)\n",
    "tiendas_raw = spark.read.option(\"header\", True).option(\"inferSchema\", False).csv(path_tiendas)\n",
    "productos_raw = spark.read.option(\"header\", True).option(\"inferSchema\", False).csv(path_productos)\n",
    "ventasbase_raw = spark.read.option(\"header\", True).option(\"inferSchema\", False).csv(path_ventasbase)\n",
    "devoluciones_raw = spark.read.option(\"header\", True).option(\"inferSchema\", False).csv(path_devoluciones)"
   ]
  },
  {
   "cell_type": "code",
   "execution_count": 0,
   "metadata": {
    "application/vnd.databricks.v1+cell": {
     "cellMetadata": {
      "byteLimit": 2048000,
      "rowLimit": 10000
     },
     "inputWidgets": {},
     "nuid": "40d85c69-8eee-4d63-be45-7d49e4b7ca2f",
     "showTitle": false,
     "tableResultSettingsMap": {},
     "title": ""
    }
   },
   "outputs": [],
   "source": [
    "clientes_raw.write.format(\"delta\").mode(\"overwrite\").saveAsTable(f\"{catalog_name}.{schema_bronze}.clientes_raw\")\n",
    "tiendas_raw.write.format(\"delta\").mode(\"overwrite\").saveAsTable(f\"{catalog_name}.{schema_bronze}.tiendas_raw\")\n",
    "productos_raw.write.format(\"delta\").mode(\"overwrite\").saveAsTable(f\"{catalog_name}.{schema_bronze}.productos_raw\")\n",
    "ventasbase_raw.write.format(\"delta\").mode(\"overwrite\").saveAsTable(f\"{catalog_name}.{schema_bronze}.ventasbase_raw\")\n",
    "devoluciones_raw.write.format(\"delta\").mode(\"overwrite\").saveAsTable(f\"{catalog_name}.{schema_bronze}.devoluciones_raw\")"
   ]
  },
  {
   "cell_type": "code",
   "execution_count": 0,
   "metadata": {
    "application/vnd.databricks.v1+cell": {
     "cellMetadata": {
      "byteLimit": 2048000,
      "implicitDf": true,
      "rowLimit": 10000
     },
     "inputWidgets": {},
     "nuid": "df4ffc5a-69fa-40cb-aece-ba44c2efef9a",
     "showTitle": false,
     "tableResultSettingsMap": {},
     "title": ""
    }
   },
   "outputs": [],
   "source": [
    "%sql\n",
    "SELECT * FROM dmc_tallerfinaldatabricks_mariovento.bronze.clientes_raw"
   ]
  },
  {
   "cell_type": "code",
   "execution_count": 0,
   "metadata": {
    "application/vnd.databricks.v1+cell": {
     "cellMetadata": {
      "byteLimit": 2048000,
      "implicitDf": true,
      "rowLimit": 10000
     },
     "inputWidgets": {},
     "nuid": "5130e7c2-b363-4ec5-833e-bae02bc149e7",
     "showTitle": false,
     "tableResultSettingsMap": {},
     "title": ""
    }
   },
   "outputs": [],
   "source": [
    "%sql\n",
    "SELECT * FROM dmc_tallerfinaldatabricks_mariovento.bronze.tiendas_raw\n",
    "--SELECT DISTINCT region FROM dmc_tallerfinaldatabricks_mariovento.bronze.tiendas_raw"
   ]
  },
  {
   "cell_type": "code",
   "execution_count": 0,
   "metadata": {
    "application/vnd.databricks.v1+cell": {
     "cellMetadata": {
      "byteLimit": 2048000,
      "implicitDf": true,
      "rowLimit": 10000
     },
     "inputWidgets": {},
     "nuid": "dffb9727-a8d7-4eb7-b08e-cb4679c150a0",
     "showTitle": false,
     "tableResultSettingsMap": {
      "0": {
       "dataGridStateBlob": "{\"version\":1,\"tableState\":{\"columnPinning\":{\"left\":[\"#row_number#\"],\"right\":[]},\"columnSizing\":{\"nombre\":151},\"columnVisibility\":{}},\"settings\":{\"columns\":{}},\"syncTimestamp\":1757890344001}",
       "filterBlob": null,
       "queryPlanFiltersBlob": null,
       "tableResultIndex": 0
      }
     },
     "title": ""
    }
   },
   "outputs": [],
   "source": [
    "%sql\n",
    "SELECT * FROM dmc_tallerfinaldatabricks_mariovento.bronze.productos_raw\n",
    "-- SELECT * FROM dmc_tallerfinaldatabricks_mariovento.bronze.productos_raw WHERE id_producto is NULL\n",
    "--SELECT DISTINCT categoria FROM dmc_tallerfinaldatabricks_mariovento.bronze.productos_raw\n",
    "--SELECT *\n",
    "--FROM dmc_tallerfinaldatabricks_mariovento.bronze.productos_raw\n",
    "--WHERE CAST(precio AS DECIMAL(10,2)) <= 0\n"
   ]
  },
  {
   "cell_type": "code",
   "execution_count": 0,
   "metadata": {
    "application/vnd.databricks.v1+cell": {
     "cellMetadata": {
      "byteLimit": 2048000,
      "implicitDf": true,
      "rowLimit": 10000
     },
     "inputWidgets": {},
     "nuid": "10eca185-3744-44f5-b937-e9baf4f328ee",
     "showTitle": false,
     "tableResultSettingsMap": {},
     "title": ""
    }
   },
   "outputs": [],
   "source": [
    "%sql\n",
    "SELECT * FROM dmc_tallerfinaldatabricks_mariovento.bronze.ventasbase_raw"
   ]
  },
  {
   "cell_type": "code",
   "execution_count": 0,
   "metadata": {
    "application/vnd.databricks.v1+cell": {
     "cellMetadata": {
      "byteLimit": 2048000,
      "implicitDf": true,
      "rowLimit": 10000
     },
     "inputWidgets": {},
     "nuid": "7295ac39-c604-4670-bbe7-4c3e10d50762",
     "showTitle": false,
     "tableResultSettingsMap": {},
     "title": ""
    }
   },
   "outputs": [],
   "source": [
    "%sql\n",
    "SELECT * FROM dmc_tallerfinaldatabricks_mariovento.bronze.devoluciones_raw"
   ]
  }
 ],
 "metadata": {
  "application/vnd.databricks.v1+notebook": {
   "computePreferences": {
    "hardware": {
     "accelerator": null,
     "gpuPoolId": null,
     "memory": "HIGH"
    }
   },
   "dashboards": [],
   "environmentMetadata": {
    "base_environment": "",
    "environment_version": "3"
   },
   "inputWidgetPreferences": null,
   "language": "python",
   "notebookMetadata": {
    "mostRecentlyExecutedCommandWithImplicitDF": {
     "commandId": 6461251479653495,
     "dataframes": [
      "_sqldf"
     ]
    },
    "pythonIndentUnit": 4
   },
   "notebookName": "Bronze",
   "widgets": {}
  },
  "language_info": {
   "name": "python"
  }
 },
 "nbformat": 4,
 "nbformat_minor": 0
}
