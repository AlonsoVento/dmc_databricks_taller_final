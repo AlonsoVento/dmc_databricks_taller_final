{
 "cells": [
  {
   "cell_type": "code",
   "execution_count": 0,
   "metadata": {
    "application/vnd.databricks.v1+cell": {
     "cellMetadata": {
      "byteLimit": 2048000,
      "rowLimit": 10000
     },
     "inputWidgets": {},
     "nuid": "cb368b42-bf35-4146-bc3e-475ba3320122",
     "showTitle": false,
     "tableResultSettingsMap": {},
     "title": ""
    }
   },
   "outputs": [],
   "source": [
    "catalog_name = \"dmc_tallerfinaldatabricks_mariovento\"\n",
    "\n",
    "schema_silver = \"silver\"\n",
    "schema_gold = \"gold\""
   ]
  },
  {
   "cell_type": "code",
   "execution_count": 0,
   "metadata": {
    "application/vnd.databricks.v1+cell": {
     "cellMetadata": {
      "byteLimit": 2048000,
      "rowLimit": 10000
     },
     "inputWidgets": {},
     "nuid": "0a9ab354-b7a2-4d29-8330-63603f14c0b9",
     "showTitle": false,
     "tableResultSettingsMap": {},
     "title": ""
    }
   },
   "outputs": [],
   "source": [
    "from pyspark.sql.functions import to_date, col, year, month, dayofmonth, concat_ws, current_timestamp\n",
    "from pyspark.sql.window import Window\n",
    "from pyspark.sql.functions import row_number"
   ]
  },
  {
   "cell_type": "code",
   "execution_count": 0,
   "metadata": {
    "application/vnd.databricks.v1+cell": {
     "cellMetadata": {
      "byteLimit": 2048000,
      "rowLimit": 10000
     },
     "inputWidgets": {},
     "nuid": "2e895353-bb5b-49bd-bdfb-648ada123244",
     "showTitle": false,
     "tableResultSettingsMap": {},
     "title": ""
    }
   },
   "outputs": [],
   "source": [
    "ventas_silver = spark.table(f\"{catalog_name}.{schema_silver}.ventas\")\n",
    "\n",
    "# Se crea una especificación de ventana para ordenar las fechas de forma ascendente y particionar por fecha\n",
    "window_spec = Window.partitionBy(\"fecha\").orderBy(\"fecha\")\n",
    "\n",
    "# Se construye la dimensión de tiempo a partir de las fechas de ventas\n",
    "dim_tiempo = (\n",
    "    ventas_silver\n",
    "    .withColumn(\"fecha\", to_date(col(\"fecha_venta\")))  # Convierte la columna fecha_venta a tipo fecha\n",
    "    .filter(col(\"fecha\").isNotNull())  # Elimina valores null de fecha\n",
    "    .select(\"fecha\")  # Selecciona solo la columna fecha\n",
    "    .dropDuplicates([\"fecha\"])  # Elimina duplicados de fechas\n",
    "    .withColumn(\"anio\", year(col(\"fecha\")).cast(\"int\"))\n",
    "    .withColumn(\"mes\", month(col(\"fecha\")).cast(\"int\"))\n",
    "    .withColumn(\"dia\", dayofmonth(col(\"fecha\")).cast(\"int\"))\n",
    "    .withColumn(\"anio_mes\", concat_ws(\"-\", col(\"anio\"), col(\"mes\")).cast(\"string\"))\n",
    "    # Genera una clave secuencial para cada fecha y la castea a BIGINT\n",
    "    .withColumn(\"sk_tiempo\", row_number().over(window_spec).cast(\"bigint\"))\n",
    "    .withColumn(\"creation_date\", current_timestamp())  # Fecha de creación del registro\n",
    "    .select(\n",
    "        col(\"sk_tiempo\"),\n",
    "        col(\"fecha\"),\n",
    "        col(\"anio\"),\n",
    "        col(\"mes\"),\n",
    "        col(\"dia\"),\n",
    "        col(\"anio_mes\"),\n",
    "        col(\"creation_date\")\n",
    "    )\n",
    ")\n",
    "\n",
    "# Particiona la tabla por año y mes para mejorar el rendimiento en consultas\n",
    "(\n",
    "    dim_tiempo\n",
    "    .write\n",
    "    .format(\"delta\")\n",
    "    .mode(\"overwrite\")\n",
    "    .partitionBy(\"anio\", \"mes\")\n",
    ")"
   ]
  },
  {
   "cell_type": "code",
   "execution_count": 0,
   "metadata": {
    "application/vnd.databricks.v1+cell": {
     "cellMetadata": {
      "byteLimit": 2048000,
      "rowLimit": 10000
     },
     "inputWidgets": {},
     "nuid": "47b61469-eaf6-4c12-9622-ea5e81e12e00",
     "showTitle": false,
     "tableResultSettingsMap": {},
     "title": ""
    }
   },
   "outputs": [],
   "source": [
    "dim_tiempo.write.format(\"delta\").mode(\"overwrite\").saveAsTable(f\"{catalog_name}.{schema_gold}.dim_tiempo\")"
   ]
  },
  {
   "cell_type": "code",
   "execution_count": 0,
   "metadata": {
    "application/vnd.databricks.v1+cell": {
     "cellMetadata": {
      "byteLimit": 2048000,
      "implicitDf": true,
      "rowLimit": 10000
     },
     "inputWidgets": {},
     "nuid": "37b4413b-76e8-4a4a-958d-03f4816682db",
     "showTitle": false,
     "tableResultSettingsMap": {
      "0": {
       "dataGridStateBlob": "{\"version\":1,\"tableState\":{\"columnPinning\":{\"left\":[\"#row_number#\"],\"right\":[]},\"columnSizing\":{\"sk_tiempo\":99},\"columnVisibility\":{}},\"settings\":{\"columns\":{}},\"syncTimestamp\":1757988125485}",
       "filterBlob": null,
       "queryPlanFiltersBlob": null,
       "tableResultIndex": 0
      }
     },
     "title": ""
    }
   },
   "outputs": [],
   "source": [
    "%sql\n",
    "select * from dmc_tallerfinaldatabricks_mariovento.gold.dim_tiempo"
   ]
  }
 ],
 "metadata": {
  "application/vnd.databricks.v1+notebook": {
   "computePreferences": null,
   "dashboards": [],
   "environmentMetadata": {
    "base_environment": "",
    "environment_version": "3"
   },
   "inputWidgetPreferences": null,
   "language": "python",
   "notebookMetadata": {
    "mostRecentlyExecutedCommandWithImplicitDF": {
     "commandId": 8862841121417496,
     "dataframes": [
      "_sqldf"
     ]
    },
    "pythonIndentUnit": 4
   },
   "notebookName": "Gold_DimTiempo",
   "widgets": {}
  },
  "language_info": {
   "name": "python"
  }
 },
 "nbformat": 4,
 "nbformat_minor": 0
}
