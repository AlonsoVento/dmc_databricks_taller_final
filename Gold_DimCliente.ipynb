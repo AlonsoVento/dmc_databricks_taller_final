{
 "cells": [
  {
   "cell_type": "code",
   "execution_count": 0,
   "metadata": {
    "application/vnd.databricks.v1+cell": {
     "cellMetadata": {
      "byteLimit": 2048000,
      "rowLimit": 10000
     },
     "inputWidgets": {},
     "nuid": "cb368b42-bf35-4146-bc3e-475ba3320122",
     "showTitle": false,
     "tableResultSettingsMap": {},
     "title": ""
    }
   },
   "outputs": [],
   "source": [
    "catalog_name = \"dmc_tallerfinaldatabricks_mariovento\"\n",
    "\n",
    "schema_silver = \"silver\"\n",
    "schema_gold = \"gold\""
   ]
  },
  {
   "cell_type": "code",
   "execution_count": 0,
   "metadata": {
    "application/vnd.databricks.v1+cell": {
     "cellMetadata": {
      "byteLimit": 2048000,
      "rowLimit": 10000
     },
     "inputWidgets": {},
     "nuid": "419dc1c3-fa7e-4c02-a280-21d04b13f63f",
     "showTitle": false,
     "tableResultSettingsMap": {},
     "title": ""
    }
   },
   "outputs": [],
   "source": [
    "from pyspark.sql.functions import current_timestamp, col"
   ]
  },
  {
   "cell_type": "code",
   "execution_count": 0,
   "metadata": {
    "application/vnd.databricks.v1+cell": {
     "cellMetadata": {
      "byteLimit": 2048000,
      "rowLimit": 10000
     },
     "inputWidgets": {},
     "nuid": "f49ad708-6e94-4b95-88de-44e9bbe8c7bc",
     "showTitle": false,
     "tableResultSettingsMap": {},
     "title": ""
    }
   },
   "outputs": [],
   "source": [
    "# Carga la tabla 'clientes' del esquema 'silver' en un DataFrame de Spark\n",
    "clientes_silver = spark.table(f\"{catalog_name}.{schema_silver}.clientes\")\n",
    "\n",
    "# Crea el DataFrame 'dim_cliente' agregando columnas y seleccionando campos relevantes\n",
    "dim_cliente = (\n",
    "    clientes_silver\n",
    "    .withColumn(\"sk_cliente\", col(\"id_cliente\"))  # Crea la clave sustituta 'sk_cliente' usando 'id_cliente'\n",
    "    .withColumn(\"creation_date\", current_timestamp())  # Agrega la columna 'creation_date' con la fecha/hora actual\n",
    "    .select(\n",
    "        col(\"sk_cliente\"), # Clave sustituta del cliente\n",
    "        col(\"id_cliente\"), # ID original del cliente\n",
    "        col(\"nombre\"), # Nombre del cliente\n",
    "        col(\"email\"), # Email del cliente\n",
    "        col(\"ciudad\"), # Ciudad del cliente\n",
    "        col(\"fecha_registro\"), # Fecha de registro del cliente\n",
    "        col(\"creation_date\") # Fecha/hora de creación del registro en la dimensión\n",
    "    )\n",
    "    .orderBy(col(\"id_cliente\").asc())\n",
    ")"
   ]
  },
  {
   "cell_type": "code",
   "execution_count": 0,
   "metadata": {
    "application/vnd.databricks.v1+cell": {
     "cellMetadata": {
      "byteLimit": 2048000,
      "rowLimit": 10000
     },
     "inputWidgets": {},
     "nuid": "47b61469-eaf6-4c12-9622-ea5e81e12e00",
     "showTitle": false,
     "tableResultSettingsMap": {},
     "title": ""
    }
   },
   "outputs": [],
   "source": [
    "dim_cliente.write.format(\"delta\").mode(\"overwrite\").saveAsTable(f\"{catalog_name}.{schema_gold}.dim_cliente\")"
   ]
  },
  {
   "cell_type": "code",
   "execution_count": 0,
   "metadata": {
    "application/vnd.databricks.v1+cell": {
     "cellMetadata": {
      "byteLimit": 2048000,
      "implicitDf": true,
      "rowLimit": 10000
     },
     "inputWidgets": {},
     "nuid": "c392c61d-2d42-4c9d-be75-7707c5fa7e0e",
     "showTitle": false,
     "tableResultSettingsMap": {},
     "title": ""
    }
   },
   "outputs": [],
   "source": [
    "%sql\n",
    "select * from dmc_tallerfinaldatabricks_mariovento.gold.dim_cliente"
   ]
  }
 ],
 "metadata": {
  "application/vnd.databricks.v1+notebook": {
   "computePreferences": {
    "hardware": {
     "accelerator": null,
     "gpuPoolId": null,
     "memory": null
    }
   },
   "dashboards": [],
   "environmentMetadata": {
    "base_environment": "",
    "environment_version": "3"
   },
   "inputWidgetPreferences": null,
   "language": "python",
   "notebookMetadata": {
    "mostRecentlyExecutedCommandWithImplicitDF": {
     "commandId": 7383652310531705,
     "dataframes": [
      "_sqldf"
     ]
    },
    "pythonIndentUnit": 4
   },
   "notebookName": "Gold_DimCliente",
   "widgets": {}
  },
  "language_info": {
   "name": "python"
  }
 },
 "nbformat": 4,
 "nbformat_minor": 0
}
