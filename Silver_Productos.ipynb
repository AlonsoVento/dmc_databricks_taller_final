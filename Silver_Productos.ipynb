{
 "cells": [
  {
   "cell_type": "code",
   "execution_count": 0,
   "metadata": {
    "application/vnd.databricks.v1+cell": {
     "cellMetadata": {
      "byteLimit": 2048000,
      "rowLimit": 10000
     },
     "inputWidgets": {},
     "nuid": "dc863761-fc86-4802-a433-987048fa626d",
     "showTitle": false,
     "tableResultSettingsMap": {},
     "title": ""
    }
   },
   "outputs": [],
   "source": [
    "catalog_name = \"dmc_tallerfinaldatabricks_mariovento\"\n",
    "\n",
    "schema_bronze = \"bronze\"\n",
    "schema_silver = \"silver\""
   ]
  },
  {
   "cell_type": "code",
   "execution_count": 0,
   "metadata": {
    "application/vnd.databricks.v1+cell": {
     "cellMetadata": {
      "byteLimit": 2048000,
      "rowLimit": 10000
     },
     "inputWidgets": {},
     "nuid": "2cade8a4-c8cf-4c57-a732-f193c6fcf1b4",
     "showTitle": false,
     "tableResultSettingsMap": {},
     "title": ""
    }
   },
   "outputs": [],
   "source": [
    "from pyspark.sql.types import DecimalType, StringType, LongType\n",
    "from pyspark.sql.functions import col, when, concat, lit, trim, initcap, expr"
   ]
  },
  {
   "cell_type": "code",
   "execution_count": 0,
   "metadata": {
    "application/vnd.databricks.v1+cell": {
     "cellMetadata": {
      "byteLimit": 2048000,
      "rowLimit": 10000
     },
     "inputWidgets": {},
     "nuid": "7ba6945f-a831-4c87-9a90-c57f79f6f6ac",
     "showTitle": false,
     "tableResultSettingsMap": {},
     "title": ""
    }
   },
   "outputs": [],
   "source": [
    "silver_productos = (\n",
    "    spark.table(f\"{catalog_name}.{schema_bronze}.productos_raw\")\n",
    "    # Convierte id_producto a bigint\n",
    "    .withColumn(\"id_producto\", col(\"id_producto\").cast(\"bigint\"))\n",
    "    # Limpia y estandariza el nombre del producto\n",
    "    .withColumn(\n",
    "        \"nombre\",\n",
    "        when(\n",
    "            col(\"nombre\").isNull(), \n",
    "            concat(lit(\"Producto\"), lit(\" \"), expr(\"cast(id_producto as string)\"))\n",
    "        )\n",
    "        .when(\n",
    "            col(\"nombre\").rlike(\"(?i).*producto.*\"), \n",
    "            initcap(trim(col(\"nombre\")))\n",
    "        )\n",
    "        .otherwise(\n",
    "            concat(initcap(trim(col(\"nombre\"))), lit(\" \"), expr(\"cast(id_producto as string)\"))\n",
    "        )\n",
    "    )\n",
    "    # Limpia y estandariza la categoría\n",
    "    .withColumn(\n",
    "        \"categoria\", \n",
    "        initcap(trim(col(\"categoria\"))).cast(\"string\")\n",
    "    )\n",
    "    # Valida y corrige el precio, asignando 0 si es negativo\n",
    "    .withColumn(\n",
    "        \"precio\", \n",
    "        when(\n",
    "            expr(\"try_cast(precio as decimal(18,2))\") < 0, \n",
    "            lit(0)\n",
    "        ).otherwise(\n",
    "            expr(\"try_cast(precio as decimal(18,2))\")\n",
    "        )\n",
    "    )\n",
    "    .withColumn(\"precio_corregido\", when(col(\"precio\") < 0, 0).otherwise(col(\"precio\")))\n",
    "    .withColumn(\"estado_precio\", when(col(\"precio\") < 0, \"Corregido\").otherwise(\"No corregido\"))\n",
    "    # Asigna \"Desconocida\" si la categoría es nula\n",
    "    .fillna(\"Desconocida\", subset=[\"categoria\"])\n",
    "    # Elimina duplicados por id_producto\n",
    "    .dropDuplicates([\"id_producto\"])\n",
    ")"
   ]
  },
  {
   "cell_type": "code",
   "execution_count": 0,
   "metadata": {
    "application/vnd.databricks.v1+cell": {
     "cellMetadata": {
      "byteLimit": 2048000,
      "rowLimit": 10000
     },
     "inputWidgets": {},
     "nuid": "118a57cc-e6af-4d13-82d0-12170311b8fb",
     "showTitle": false,
     "tableResultSettingsMap": {
      "0": {
       "dataGridStateBlob": "{\"version\":1,\"tableState\":{\"columnPinning\":{\"left\":[\"#row_number#\"],\"right\":[]},\"columnSizing\":{},\"columnVisibility\":{}},\"settings\":{\"columns\":{}},\"syncTimestamp\":1757895865423}",
       "filterBlob": "{\"version\":1,\"filterGroups\":[{\"enabled\":true,\"filterGroupId\":\"fg_ca7ac7de\",\"op\":\"OR\",\"filters\":[{\"filterId\":\"f_ea80b19a\",\"enabled\":true,\"columnId\":\"estado_precio\",\"dataType\":\"string\",\"filterType\":\"oneof\",\"filterValues\":[\"No corregido\"],\"filterConfig\":{\"caseSensitive\":true}}],\"local\":false,\"updatedAt\":1758072533067}],\"syncTimestamp\":1758072533067}",
       "queryPlanFiltersBlob": "[{\"kind\":\"call\",\"function\":\"or\",\"args\":[{\"kind\":\"call\",\"function\":\"in\",\"args\":[{\"kind\":\"identifier\",\"identifier\":\"estado_precio\"},{\"kind\":\"literal\",\"value\":\"No corregido\",\"type\":\"string\"}]}]}]",
       "tableResultIndex": 0
      }
     },
     "title": ""
    }
   },
   "outputs": [],
   "source": [
    "display(silver_productos)"
   ]
  },
  {
   "cell_type": "code",
   "execution_count": 0,
   "metadata": {
    "application/vnd.databricks.v1+cell": {
     "cellMetadata": {
      "byteLimit": 2048000,
      "rowLimit": 10000
     },
     "inputWidgets": {},
     "nuid": "0e32087d-8ce1-4616-be9e-cb9ba43af62c",
     "showTitle": false,
     "tableResultSettingsMap": {},
     "title": ""
    }
   },
   "outputs": [],
   "source": [
    "silver_productos.write.mode(\"overwrite\").saveAsTable(f\"{catalog_name}.{schema_silver}.productos\")"
   ]
  },
  {
   "cell_type": "code",
   "execution_count": 0,
   "metadata": {
    "application/vnd.databricks.v1+cell": {
     "cellMetadata": {
      "byteLimit": 2048000,
      "implicitDf": true,
      "rowLimit": 10000
     },
     "inputWidgets": {},
     "nuid": "b164ba78-ee5a-4e96-899f-9aa758a33d84",
     "showTitle": false,
     "tableResultSettingsMap": {},
     "title": ""
    }
   },
   "outputs": [],
   "source": [
    "%sql\n",
    "select distinct categoria \n",
    "from dmc_tallerfinaldatabricks_mariovento.silver.productos"
   ]
  }
 ],
 "metadata": {
  "application/vnd.databricks.v1+notebook": {
   "computePreferences": {
    "hardware": {
     "accelerator": null,
     "gpuPoolId": null,
     "memory": "HIGH"
    }
   },
   "dashboards": [],
   "environmentMetadata": {
    "base_environment": "",
    "environment_version": "3"
   },
   "inputWidgetPreferences": null,
   "language": "python",
   "notebookMetadata": {
    "mostRecentlyExecutedCommandWithImplicitDF": {
     "commandId": 6461251479653531,
     "dataframes": [
      "_sqldf"
     ]
    },
    "pythonIndentUnit": 4
   },
   "notebookName": "Silver_Productos",
   "widgets": {}
  },
  "language_info": {
   "name": "python"
  }
 },
 "nbformat": 4,
 "nbformat_minor": 0
}
