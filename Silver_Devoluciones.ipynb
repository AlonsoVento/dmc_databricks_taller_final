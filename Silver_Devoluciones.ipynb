{
 "cells": [
  {
   "cell_type": "code",
   "execution_count": 0,
   "metadata": {
    "application/vnd.databricks.v1+cell": {
     "cellMetadata": {
      "byteLimit": 2048000,
      "rowLimit": 10000
     },
     "inputWidgets": {},
     "nuid": "091b566b-f3b5-4a84-bd06-f1b1e90eb114",
     "showTitle": false,
     "tableResultSettingsMap": {},
     "title": ""
    }
   },
   "outputs": [],
   "source": [
    "catalog_name = \"dmc_tallerfinaldatabricks_mariovento\"\n",
    "\n",
    "schema_bronze = \"bronze\"\n",
    "schema_silver = \"silver\""
   ]
  },
  {
   "cell_type": "code",
   "execution_count": 0,
   "metadata": {
    "application/vnd.databricks.v1+cell": {
     "cellMetadata": {
      "byteLimit": 2048000,
      "rowLimit": 10000
     },
     "inputWidgets": {},
     "nuid": "1f099a5b-01b7-4113-9e8e-10d78641f6b5",
     "showTitle": false,
     "tableResultSettingsMap": {},
     "title": ""
    }
   },
   "outputs": [],
   "source": [
    "from pyspark.sql.functions import col, initcap, trim, when, to_date"
   ]
  },
  {
   "cell_type": "code",
   "execution_count": 0,
   "metadata": {
    "application/vnd.databricks.v1+cell": {
     "cellMetadata": {
      "byteLimit": 2048000,
      "rowLimit": 10000
     },
     "inputWidgets": {},
     "nuid": "17958562-095a-4708-a0f8-2a983acafa2c",
     "showTitle": false,
     "tableResultSettingsMap": {},
     "title": ""
    }
   },
   "outputs": [],
   "source": [
    "silver_devoluciones = (\n",
    "  spark.table(f\"{catalog_name}.{schema_bronze}.devoluciones_raw\")\n",
    "  # Convierte 'id_devolucion' a tipo bigint\n",
    "  .withColumn(\"id_devolucion\", col(\"id_devolucion\").cast(\"bigint\"))\n",
    "  # Convierte 'id_venta' a tipo bigint\n",
    "  .withColumn(\"id_venta\", col(\"id_venta\").cast(\"bigint\"))\n",
    "  # Limpia y normaliza la columna 'motivo'\n",
    "  .withColumn(\n",
    "    \"motivo\",\n",
    "    when(\n",
    "      (trim(col(\"motivo\")) == \"N/A\") | (trim(col(\"motivo\")) == \"null\") | (col(\"motivo\").isNull()),\n",
    "      \"Desconocido\"\n",
    "    ).otherwise(initcap(trim(col(\"motivo\")))).cast(\"string\")\n",
    "  )\n",
    "  # Normaliza y convierte la columna 'fecha_devolucion' a tipo timestamp\n",
    "  .withColumn(\"fecha_devolucion\",\n",
    "        when(col(\"fecha_devolucion\") == \"N/A\", None)\n",
    "        .when(col(\"fecha_devolucion\").rlike(\"^[0-9]{4}-[0-9]{2}-[0-9]{2}$\"), to_date(col(\"fecha_devolucion\"), \"yyyy-MM-dd\").cast(\"timestamp\"))\n",
    "        .when(col(\"fecha_devolucion\").rlike(\"^[0-9]{2}-[0-9]{2}-[0-9]{4}$\"), to_date(col(\"fecha_devolucion\"), \"MM-dd-yyyy\").cast(\"timestamp\"))\n",
    "        .when(col(\"fecha_devolucion\").rlike(\"^[0-9]{2}/[0-9]{2}/[0-9]{4}$\"), to_date(col(\"fecha_devolucion\"), \"dd/MM/yyyy\").cast(\"timestamp\"))\n",
    "        .when(col(\"fecha_devolucion\").rlike(\"^[0-9]{4}/[0-9]{2}/[0-9]{2} [0-9]{2}:[0-9]{2}:[0-9]{2}$\"), to_date(col(\"fecha_devolucion\"), \"yyyy/MM/dd HH:mm:ss\").cast(\"timestamp\"))  \n",
    "        .otherwise(None)\n",
    "    )\n",
    "  # Elimina duplicados basados en 'id_devolucion'\n",
    "  .dropDuplicates([\"id_devolucion\"])\n",
    ")"
   ]
  },
  {
   "cell_type": "code",
   "execution_count": 0,
   "metadata": {
    "application/vnd.databricks.v1+cell": {
     "cellMetadata": {
      "byteLimit": 2048000,
      "rowLimit": 10000
     },
     "inputWidgets": {},
     "nuid": "da76c131-8d37-4b05-a5b2-c5d09411e909",
     "showTitle": false,
     "tableResultSettingsMap": {
      "0": {
       "dataGridStateBlob": "{\"version\":1,\"tableState\":{\"columnPinning\":{\"left\":[\"#row_number#\"],\"right\":[]},\"columnSizing\":{\"motivo\":157},\"columnVisibility\":{}},\"settings\":{\"columns\":{}},\"syncTimestamp\":1757898592494}",
       "filterBlob": null,
       "queryPlanFiltersBlob": null,
       "tableResultIndex": 0
      }
     },
     "title": ""
    }
   },
   "outputs": [],
   "source": [
    "display(silver_devoluciones.select(\"motivo\").distinct())"
   ]
  },
  {
   "cell_type": "code",
   "execution_count": 0,
   "metadata": {
    "application/vnd.databricks.v1+cell": {
     "cellMetadata": {
      "byteLimit": 2048000,
      "rowLimit": 10000
     },
     "inputWidgets": {},
     "nuid": "f49cdf28-2d7b-4915-9ead-7310df423088",
     "showTitle": false,
     "tableResultSettingsMap": {},
     "title": ""
    }
   },
   "outputs": [],
   "source": [
    "display(silver_devoluciones)"
   ]
  },
  {
   "cell_type": "code",
   "execution_count": 0,
   "metadata": {
    "application/vnd.databricks.v1+cell": {
     "cellMetadata": {
      "byteLimit": 2048000,
      "rowLimit": 10000
     },
     "inputWidgets": {},
     "nuid": "b17d0e76-2015-411d-b154-5a5a117e965e",
     "showTitle": false,
     "tableResultSettingsMap": {},
     "title": ""
    }
   },
   "outputs": [],
   "source": [
    "silver_devoluciones.write.mode(\"overwrite\").saveAsTable(f\"{catalog_name}.{schema_silver}.devoluciones\")"
   ]
  }
 ],
 "metadata": {
  "application/vnd.databricks.v1+notebook": {
   "computePreferences": {
    "hardware": {
     "accelerator": null,
     "gpuPoolId": null,
     "memory": null
    }
   },
   "dashboards": [],
   "environmentMetadata": {
    "base_environment": "",
    "environment_version": "3"
   },
   "inputWidgetPreferences": null,
   "language": "python",
   "notebookMetadata": {
    "pythonIndentUnit": 4
   },
   "notebookName": "Silver_Devoluciones",
   "widgets": {}
  },
  "language_info": {
   "name": "python"
  }
 },
 "nbformat": 4,
 "nbformat_minor": 0
}
