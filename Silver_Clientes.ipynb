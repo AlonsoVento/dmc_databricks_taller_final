{
 "cells": [
  {
   "cell_type": "code",
   "execution_count": 0,
   "metadata": {
    "application/vnd.databricks.v1+cell": {
     "cellMetadata": {
      "byteLimit": 2048000,
      "rowLimit": 10000
     },
     "inputWidgets": {},
     "nuid": "c628b6be-7334-4fa7-82be-dfb5c3487100",
     "showTitle": false,
     "tableResultSettingsMap": {},
     "title": ""
    }
   },
   "outputs": [],
   "source": [
    "catalog_name = \"dmc_tallerfinaldatabricks_mariovento\"\n",
    "\n",
    "schema_bronze = \"bronze\"\n",
    "schema_silver = \"silver\""
   ]
  },
  {
   "cell_type": "code",
   "execution_count": 0,
   "metadata": {
    "application/vnd.databricks.v1+cell": {
     "cellMetadata": {
      "byteLimit": 2048000,
      "rowLimit": 10000
     },
     "inputWidgets": {},
     "nuid": "12c96997-12e0-470d-b29a-34f6c48cfef0",
     "showTitle": false,
     "tableResultSettingsMap": {},
     "title": ""
    }
   },
   "outputs": [],
   "source": [
    "from pyspark.sql.functions import col, when, concat, lit, initcap, trim, lower, regexp_replace, to_date"
   ]
  },
  {
   "cell_type": "code",
   "execution_count": 0,
   "metadata": {
    "application/vnd.databricks.v1+cell": {
     "cellMetadata": {
      "byteLimit": 2048000,
      "rowLimit": 10000
     },
     "inputWidgets": {},
     "nuid": "c507d221-9280-401a-95ed-02c6f071c72a",
     "showTitle": false,
     "tableResultSettingsMap": {},
     "title": ""
    }
   },
   "outputs": [],
   "source": [
    "silver_clientes = (\n",
    "    spark.table(f\"{catalog_name}.{schema_bronze}.clientes_raw\")\n",
    "    # Convierte id_cliente a tipo bigint\n",
    "    .withColumn(\"id_cliente\", col(\"id_cliente\").cast(\"bigint\"))\n",
    "    # Limpia y estandariza el nombre del cliente\n",
    "    .withColumn(\n",
    "        \"nombre\",\n",
    "        when(col(\"nombre\").isNull(), concat(lit(\"Cliente\"), lit(\" \"), col(\"id_cliente\").cast(\"string\")))\n",
    "        .when(col(\"nombre\").rlike(\"(?i).*cliente.*\"), initcap(trim(col(\"nombre\"))))\n",
    "        .otherwise(concat(initcap(trim(col(\"nombre\"))), lit(\" \"), col(\"id_cliente\").cast(\"string\")))\n",
    "    )\n",
    "    # Genera el email en minúsculas usando el nombre sin espacios\n",
    "    .withColumn(\"email\", lower(concat(regexp_replace(trim(col(\"nombre\")), \" \", \"\"), lit(\"@mail.com\"))))\n",
    "    # Limpia y estandariza la ciudad\n",
    "    .withColumn(\"ciudad\", initcap(trim(col(\"ciudad\"))).cast(\"string\"))\n",
    "    # Normaliza la fecha de registro en distintos formatos\n",
    "    .withColumn(\n",
    "        \"fecha_registro\",\n",
    "        when(col(\"fecha_registro\") == \"N/A\", None)\n",
    "        .when(col(\"fecha_registro\").rlike(\"^[0-9]{4}-[0-9]{2}-[0-9]{2}$\"), to_date(col(\"fecha_registro\"), \"yyyy-MM-dd\"))\n",
    "        .when(col(\"fecha_registro\").rlike(\"^[0-9]{2}-[0-9]{2}-[0-9]{4}$\"), to_date(col(\"fecha_registro\"), \"MM-dd-yyyy\"))\n",
    "        .when(col(\"fecha_registro\").rlike(\"^[0-9]{2}/[0-9]{2}/[0-9]{4}$\"), to_date(col(\"fecha_registro\"), \"dd/MM/yyyy\"))\n",
    "        .when(col(\"fecha_registro\").rlike(\"^[0-9]{4}/[0-9]{2}/[0-9]{2} [0-9]{2}:[0-9]{2}:[0-9]{2}$\"), to_date(col(\"fecha_registro\"), \"yyyy/MM/dd HH:mm:ss\"))\n",
    "        .otherwise(None)\n",
    "    )\n",
    "    # Rellena ciudad desconocida\n",
    "    .fillna(\"Desconocido\", subset=[\"ciudad\"])\n",
    "    # Elimina duplicados por id_cliente\n",
    "    .dropDuplicates([\"id_cliente\"])\n",
    ")"
   ]
  },
  {
   "cell_type": "code",
   "execution_count": 0,
   "metadata": {
    "application/vnd.databricks.v1+cell": {
     "cellMetadata": {
      "byteLimit": 2048000,
      "rowLimit": 10000
     },
     "inputWidgets": {},
     "nuid": "2a63c6dc-a9ff-4305-b7ae-622cda6307b6",
     "showTitle": false,
     "tableResultSettingsMap": {
      "0": {
       "dataGridStateBlob": "{\"version\":1,\"tableState\":{\"columnPinning\":{\"left\":[\"#row_number#\"],\"right\":[]},\"columnSizing\":{},\"columnVisibility\":{}},\"settings\":{\"columns\":{}},\"syncTimestamp\":1757897078312}",
       "filterBlob": null,
       "queryPlanFiltersBlob": null,
       "tableResultIndex": 0
      }
     },
     "title": ""
    }
   },
   "outputs": [],
   "source": [
    "display(silver_clientes)"
   ]
  },
  {
   "cell_type": "code",
   "execution_count": 0,
   "metadata": {
    "application/vnd.databricks.v1+cell": {
     "cellMetadata": {
      "byteLimit": 2048000,
      "rowLimit": 10000
     },
     "inputWidgets": {},
     "nuid": "1e0f6f83-2a83-49c8-b384-4b3dc7245912",
     "showTitle": false,
     "tableResultSettingsMap": {},
     "title": ""
    }
   },
   "outputs": [],
   "source": [
    "silver_clientes.write.mode(\"overwrite\").saveAsTable(f\"{catalog_name}.{schema_silver}.clientes\")"
   ]
  },
  {
   "cell_type": "code",
   "execution_count": 0,
   "metadata": {
    "application/vnd.databricks.v1+cell": {
     "cellMetadata": {
      "byteLimit": 2048000,
      "implicitDf": true,
      "rowLimit": 10000
     },
     "inputWidgets": {},
     "nuid": "b60420b9-be84-4d7d-a952-040199bba27d",
     "showTitle": false,
     "tableResultSettingsMap": {},
     "title": ""
    }
   },
   "outputs": [],
   "source": [
    "%sql\n",
    "select distinct ciudad\n",
    "from dmc_tallerfinaldatabricks_mariovento.silver.clientes"
   ]
  }
 ],
 "metadata": {
  "application/vnd.databricks.v1+notebook": {
   "computePreferences": {
    "hardware": {
     "accelerator": null,
     "gpuPoolId": null,
     "memory": "HIGH"
    }
   },
   "dashboards": [],
   "environmentMetadata": {
    "base_environment": "",
    "environment_version": "3"
   },
   "inputWidgetPreferences": null,
   "language": "python",
   "notebookMetadata": {
    "mostRecentlyExecutedCommandWithImplicitDF": {
     "commandId": 6461251479653555,
     "dataframes": [
      "_sqldf"
     ]
    },
    "pythonIndentUnit": 4
   },
   "notebookName": "Silver_Clientes",
   "widgets": {}
  },
  "language_info": {
   "name": "python"
  }
 },
 "nbformat": 4,
 "nbformat_minor": 0
}
