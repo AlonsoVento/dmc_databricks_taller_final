{
 "cells": [
  {
   "cell_type": "code",
   "execution_count": 0,
   "metadata": {
    "application/vnd.databricks.v1+cell": {
     "cellMetadata": {
      "byteLimit": 2048000,
      "rowLimit": 10000
     },
     "inputWidgets": {},
     "nuid": "885af6f1-a1d7-4382-80aa-89a5eb3c82f5",
     "showTitle": false,
     "tableResultSettingsMap": {},
     "title": ""
    }
   },
   "outputs": [],
   "source": [
    "catalog_name = \"dmc_tallerfinaldatabricks_mariovento\"\n",
    "\n",
    "schema_bronze = \"bronze\"\n",
    "schema_silver = \"silver\""
   ]
  },
  {
   "cell_type": "code",
   "execution_count": 0,
   "metadata": {
    "application/vnd.databricks.v1+cell": {
     "cellMetadata": {
      "byteLimit": 2048000,
      "rowLimit": 10000
     },
     "inputWidgets": {},
     "nuid": "a81d041e-3307-409b-ba37-bb1f9d5b157e",
     "showTitle": false,
     "tableResultSettingsMap": {},
     "title": ""
    }
   },
   "outputs": [],
   "source": [
    "from pyspark.sql.functions import col, when, concat, lit, initcap, trim"
   ]
  },
  {
   "cell_type": "code",
   "execution_count": 0,
   "metadata": {
    "application/vnd.databricks.v1+cell": {
     "cellMetadata": {
      "byteLimit": 2048000,
      "rowLimit": 10000
     },
     "inputWidgets": {},
     "nuid": "bda99249-0481-4cb6-9946-4d6b3dbf2d87",
     "showTitle": false,
     "tableResultSettingsMap": {},
     "title": ""
    }
   },
   "outputs": [],
   "source": [
    "silver_tiendas = (\n",
    "  spark.table(f\"{catalog_name}.{schema_bronze}.tiendas_raw\")  # Lee la tabla de tiendas en bruto\n",
    "  .withColumn(\"id_tienda\", col(\"id_tienda\").cast(\"bigint\"))  # Convierte el id de tienda a tipo bigint\n",
    "  .withColumn(\"nombre\",\n",
    "        # Si el nombre es nulo, lo reemplaza por \"Tienda <id_tienda>\"\n",
    "        when(col(\"nombre\").isNull(), concat(lit(\"Tienda\"), lit(\" \"), col(\"id_tienda\").cast(\"string\")))\n",
    "        # Si el nombre contiene \"tienda\" (sin importar mayúsculas/minúsculas), lo capitaliza y recorta espacios\n",
    "        .when(col(\"nombre\").rlike(\"(?i).*tienda.*\"), initcap(trim(col(\"nombre\"))))\n",
    "        # En otros casos, capitaliza y recorta el nombre y le agrega el id de tienda\n",
    "        .otherwise(concat(initcap(trim(col(\"nombre\"))), lit(\" \"), col(\"id_tienda\").cast(\"string\")))\n",
    "  )\n",
    "  # Capitaliza y recorta los campos ciudad y región, y los convierte a string\n",
    "  .withColumn(\"ciudad\", initcap(trim(col(\"ciudad\"))).cast(\"string\"))\n",
    "  .withColumn(\"region\", initcap(trim(col(\"region\"))).cast(\"string\"))\n",
    "  # Rellena valores nulos en ciudad y región con \"Desconocido\"\n",
    "  .fillna(\"Desconocido\", subset=[\"ciudad\", \"region\"])\n",
    "  # Elimina duplicados por id_tienda\n",
    "  .dropDuplicates([\"id_tienda\"])\n",
    ")"
   ]
  },
  {
   "cell_type": "code",
   "execution_count": 0,
   "metadata": {
    "application/vnd.databricks.v1+cell": {
     "cellMetadata": {
      "byteLimit": 2048000,
      "rowLimit": 10000
     },
     "inputWidgets": {},
     "nuid": "146cf525-3449-4c19-b964-45ccddad0040",
     "showTitle": false,
     "tableResultSettingsMap": {
      "0": {
       "dataGridStateBlob": "{\"version\":1,\"tableState\":{\"columnPinning\":{\"left\":[\"#row_number#\"],\"right\":[]},\"columnSizing\":{},\"columnVisibility\":{}},\"settings\":{\"columns\":{}},\"syncTimestamp\":1757899993366}",
       "filterBlob": null,
       "queryPlanFiltersBlob": null,
       "tableResultIndex": 0
      }
     },
     "title": ""
    }
   },
   "outputs": [],
   "source": [
    "display(silver_tiendas.groupBy(\"ciudad\").count())"
   ]
  },
  {
   "cell_type": "code",
   "execution_count": 0,
   "metadata": {
    "application/vnd.databricks.v1+cell": {
     "cellMetadata": {
      "byteLimit": 2048000,
      "rowLimit": 10000
     },
     "inputWidgets": {},
     "nuid": "25d73180-eeeb-44d2-ac54-a640dab64796",
     "showTitle": false,
     "tableResultSettingsMap": {
      "0": {
       "dataGridStateBlob": "{\"version\":1,\"tableState\":{\"columnPinning\":{\"left\":[\"#row_number#\"],\"right\":[]},\"columnSizing\":{},\"columnVisibility\":{}},\"settings\":{\"columns\":{}},\"syncTimestamp\":1757900080590}",
       "filterBlob": null,
       "queryPlanFiltersBlob": null,
       "tableResultIndex": 0
      }
     },
     "title": ""
    }
   },
   "outputs": [],
   "source": [
    "display(silver_tiendas.groupBy(\"region\").count())"
   ]
  },
  {
   "cell_type": "code",
   "execution_count": 0,
   "metadata": {
    "application/vnd.databricks.v1+cell": {
     "cellMetadata": {
      "byteLimit": 2048000,
      "rowLimit": 10000
     },
     "inputWidgets": {},
     "nuid": "f95fda3a-f431-440d-af96-53df63a0dbf4",
     "showTitle": false,
     "tableResultSettingsMap": {},
     "title": ""
    }
   },
   "outputs": [],
   "source": [
    "display(silver_tiendas)"
   ]
  },
  {
   "cell_type": "code",
   "execution_count": 0,
   "metadata": {
    "application/vnd.databricks.v1+cell": {
     "cellMetadata": {
      "byteLimit": 2048000,
      "rowLimit": 10000
     },
     "inputWidgets": {},
     "nuid": "79cda07c-5d66-48d4-968e-728c510e3a62",
     "showTitle": false,
     "tableResultSettingsMap": {},
     "title": ""
    }
   },
   "outputs": [],
   "source": [
    "silver_tiendas.write.mode(\"overwrite\").saveAsTable(f\"{catalog_name}.{schema_silver}.tiendas\")"
   ]
  }
 ],
 "metadata": {
  "application/vnd.databricks.v1+notebook": {
   "computePreferences": {
    "hardware": {
     "accelerator": null,
     "gpuPoolId": null,
     "memory": "HIGH"
    }
   },
   "dashboards": [],
   "environmentMetadata": {
    "base_environment": "",
    "environment_version": "3"
   },
   "inputWidgetPreferences": null,
   "language": "python",
   "notebookMetadata": {
    "pythonIndentUnit": 4
   },
   "notebookName": "Silver_Tiendas",
   "widgets": {}
  },
  "language_info": {
   "name": "python"
  }
 },
 "nbformat": 4,
 "nbformat_minor": 0
}
