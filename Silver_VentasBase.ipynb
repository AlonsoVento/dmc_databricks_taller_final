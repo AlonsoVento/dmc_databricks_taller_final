{
 "cells": [
  {
   "cell_type": "code",
   "execution_count": 0,
   "metadata": {
    "application/vnd.databricks.v1+cell": {
     "cellMetadata": {
      "byteLimit": 2048000,
      "rowLimit": 10000
     },
     "inputWidgets": {},
     "nuid": "b19fbc85-9117-41ab-8637-2d7bc3be180c",
     "showTitle": false,
     "tableResultSettingsMap": {},
     "title": ""
    }
   },
   "outputs": [],
   "source": [
    "catalog_name = \"dmc_tallerfinaldatabricks_mariovento\"\n",
    "\n",
    "schema_bronze = \"bronze\"\n",
    "schema_silver = \"silver\""
   ]
  },
  {
   "cell_type": "code",
   "execution_count": 0,
   "metadata": {
    "application/vnd.databricks.v1+cell": {
     "cellMetadata": {
      "byteLimit": 2048000,
      "rowLimit": 10000
     },
     "inputWidgets": {},
     "nuid": "da4d180c-66ec-446a-870b-be97102533e6",
     "showTitle": false,
     "tableResultSettingsMap": {},
     "title": ""
    }
   },
   "outputs": [],
   "source": [
    "from pyspark.sql.functions import expr, when, trim, col, to_date"
   ]
  },
  {
   "cell_type": "code",
   "execution_count": 0,
   "metadata": {
    "application/vnd.databricks.v1+cell": {
     "cellMetadata": {
      "byteLimit": 2048000,
      "rowLimit": 10000
     },
     "inputWidgets": {},
     "nuid": "19bc209a-67ff-4af6-8d29-7a602dcf1cb1",
     "showTitle": false,
     "tableResultSettingsMap": {},
     "title": ""
    }
   },
   "outputs": [],
   "source": [
    "silver_ventasbase = (\n",
    "    spark.table(f\"{catalog_name}.{schema_bronze}.ventasbase_raw\")  # Lee la tabla raw\n",
    "    .withColumn(\"id_venta\", expr(\"try_cast(id_venta as int)\"))  # Convierte id_venta a entero\n",
    "    .withColumn(\"id_cliente\", expr(\"try_cast(id_cliente as int)\"))  # Convierte id_cliente a entero\n",
    "    .withColumn(\"id_tienda\", expr(\"try_cast(id_tienda as int)\"))  # Convierte id_tienda a entero\n",
    "    .withColumn(\"id_producto\", expr(\"try_cast(id_producto as int)\"))  # Convierte id_producto a entero\n",
    "    # Corrige la columna cantidad: si es \"diez\" la pone en 10, si no intenta convertir a entero\n",
    "    .withColumn(\"cantidad\", when(trim(col(\"cantidad\")) == \"diez\", 10)\n",
    "        .otherwise(expr(\"try_cast(cantidad as int)\"))\n",
    "    )\n",
    "    .withColumn(\"monto\", col(\"monto\").cast(\"double\"))  # Convierte monto a double\n",
    "    # Si el monto es negativo, lo corrige a 0 en monto_corregido\n",
    "    .withColumn(\"monto_corregido\", when(col(\"monto\") < 0, 0).otherwise(col(\"monto\")))\n",
    "    # Marca si el monto fue corregido o no\n",
    "    .withColumn(\"estado_monto\", when(col(\"monto\") < 0, \"Corregido\").otherwise(\"No corregido\"))\n",
    "    # Limpia y normaliza la fecha de venta en varios formatos posibles\n",
    "    .withColumn(\n",
    "        \"fecha_venta\",\n",
    "        when(col(\"fecha_venta\") == \"N/A\", None)\n",
    "        .when(col(\"fecha_venta\").rlike(\"^[0-9]{4}-[0-9]{2}-[0-9]{2}$\"), to_date(col(\"fecha_venta\"), \"yyyy-MM-dd\").cast(\"timestamp\"))\n",
    "        .when(col(\"fecha_venta\").rlike(\"^[0-9]{2}-[0-9]{2}-[0-9]{4}$\"), to_date(col(\"fecha_venta\"), \"MM-dd-yyyy\").cast(\"timestamp\"))\n",
    "        .when(col(\"fecha_venta\").rlike(\"^[0-9]{2}/[0-9]{2}/[0-9]{4}$\"), to_date(col(\"fecha_venta\"), \"dd/MM/yyyy\").cast(\"timestamp\"))\n",
    "        .when(col(\"fecha_venta\").rlike(\"^[0-9]{4}/[0-9]{2}/[0-9]{2} [0-9]{2}:[0-9]{2}:[0-9]{2}$\"), to_date(col(\"fecha_venta\"), \"yyyy/MM/dd HH:mm:ss\").cast(\"timestamp\"))  \n",
    "        .otherwise(None)\n",
    "    )\n",
    "    # Limpia y normaliza la fecha de actualización en varios formatos posibles\n",
    "    .withColumn(\n",
    "        \"updated_at\",\n",
    "        when(col(\"updated_at\") == \"N/A\", None)\n",
    "        .when(col(\"updated_at\").rlike(\"^[0-9]{4}-[0-9]{2}-[0-9]{2}$\"), to_date(col(\"updated_at\"), \"yyyy-MM-dd\").cast(\"timestamp\"))\n",
    "        .when(col(\"updated_at\").rlike(\"^[0-9]{2}-[0-9]{2}-[0-9]{4}$\"), to_date(col(\"updated_at\"), \"MM-dd-yyyy\").cast(\"timestamp\"))\n",
    "        .when(col(\"updated_at\").rlike(\"^[0-9]{2}/[0-9]{2}/[0-9]{4}$\"), to_date(col(\"updated_at\"), \"dd/MM/yyyy\").cast(\"timestamp\"))\n",
    "        .when(col(\"updated_at\").rlike(\"^[0-9]{4}/[0-9]{2}/[0-9]{2} [0-9]{2}:[0-9]{2}:[0-9]{2}$\"), to_date(col(\"updated_at\"), \"yyyy/MM/dd HH:mm:ss\").cast(\"timestamp\"))  \n",
    "        .otherwise(None)\n",
    "    )\n",
    "    .dropDuplicates([\"id_venta\"])  # Elimina duplicados por id_venta\n",
    "    .select(\n",
    "        \"id_venta\", \"id_cliente\", \"id_tienda\", \"id_producto\", \"cantidad\",\n",
    "        \"monto\", \"monto_corregido\", \"estado_monto\",\n",
    "        \"fecha_venta\", \"updated_at\"\n",
    "    )  # Selecciona solo las columnas relevantes\n",
    ")"
   ]
  },
  {
   "cell_type": "code",
   "execution_count": 0,
   "metadata": {
    "application/vnd.databricks.v1+cell": {
     "cellMetadata": {
      "byteLimit": 2048000,
      "rowLimit": 10000
     },
     "inputWidgets": {},
     "nuid": "109593b9-5e4f-4f60-b0dd-8e15a0d2c125",
     "showTitle": false,
     "tableResultSettingsMap": {},
     "title": ""
    }
   },
   "outputs": [],
   "source": [
    "display(silver_ventasbase)"
   ]
  },
  {
   "cell_type": "code",
   "execution_count": 0,
   "metadata": {
    "application/vnd.databricks.v1+cell": {
     "cellMetadata": {
      "byteLimit": 2048000,
      "rowLimit": 10000
     },
     "inputWidgets": {},
     "nuid": "db2a19d2-a6dd-438c-b866-aaaf3fa0fe54",
     "showTitle": false,
     "tableResultSettingsMap": {},
     "title": ""
    }
   },
   "outputs": [],
   "source": [
    "silver_ventasbase.write.mode(\"overwrite\").saveAsTable(f\"{catalog_name}.{schema_silver}.ventasbase\")"
   ]
  }
 ],
 "metadata": {
  "application/vnd.databricks.v1+notebook": {
   "computePreferences": {
    "hardware": {
     "accelerator": null,
     "gpuPoolId": null,
     "memory": "HIGH"
    }
   },
   "dashboards": [],
   "environmentMetadata": {
    "base_environment": "",
    "environment_version": "3"
   },
   "inputWidgetPreferences": null,
   "language": "python",
   "notebookMetadata": {
    "pythonIndentUnit": 4
   },
   "notebookName": "Silver_VentasBase",
   "widgets": {}
  },
  "language_info": {
   "name": "python"
  }
 },
 "nbformat": 4,
 "nbformat_minor": 0
}
