{
 "cells": [
  {
   "cell_type": "code",
   "execution_count": 0,
   "metadata": {
    "application/vnd.databricks.v1+cell": {
     "cellMetadata": {
      "byteLimit": 2048000,
      "rowLimit": 10000
     },
     "inputWidgets": {},
     "nuid": "cb368b42-bf35-4146-bc3e-475ba3320122",
     "showTitle": false,
     "tableResultSettingsMap": {},
     "title": ""
    }
   },
   "outputs": [],
   "source": [
    "catalog_name = \"dmc_tallerfinaldatabricks_mariovento\"\n",
    "\n",
    "schema_silver = \"silver\"\n",
    "schema_gold = \"gold\""
   ]
  },
  {
   "cell_type": "code",
   "execution_count": 0,
   "metadata": {
    "application/vnd.databricks.v1+cell": {
     "cellMetadata": {
      "byteLimit": 2048000,
      "rowLimit": 10000
     },
     "inputWidgets": {},
     "nuid": "419dc1c3-fa7e-4c02-a280-21d04b13f63f",
     "showTitle": false,
     "tableResultSettingsMap": {},
     "title": ""
    }
   },
   "outputs": [],
   "source": [
    "from pyspark.sql.functions import col, to_date, current_timestamp\n",
    "from pyspark.sql.types import DecimalType, LongType"
   ]
  },
  {
   "cell_type": "code",
   "execution_count": 0,
   "metadata": {
    "application/vnd.databricks.v1+cell": {
     "cellMetadata": {
      "byteLimit": 2048000,
      "rowLimit": 10000
     },
     "inputWidgets": {},
     "nuid": "54ab672c-9952-4828-8726-52dadbaa2e2d",
     "showTitle": false,
     "tableResultSettingsMap": {},
     "title": ""
    }
   },
   "outputs": [],
   "source": [
    "silver_ventas = spark.table(f\"{catalog_name}.{schema_silver}.ventas\")\n",
    "\n",
    "# Carga las tablas de dimensiones desde el esquema gold.\n",
    "dim_cliente = spark.table(f\"{catalog_name}.{schema_gold}.dim_cliente\")\n",
    "dim_tienda = spark.table(f\"{catalog_name}.{schema_gold}.dim_tienda\")\n",
    "dim_producto = spark.table(f\"{catalog_name}.{schema_gold}.dim_producto\")\n",
    "dim_tiempo = spark.table(f\"{catalog_name}.{schema_gold}.dim_tiempo\")\n",
    "\n",
    "# Realiza joins entre la tabla de ventas y las dimensiones para obtener las claves sustitutas (sk) y enriquecer los datos.\n",
    "fact_ventas = (silver_ventas.alias(\"v\")\n",
    "    .join(dim_cliente.alias(\"c\"), col(\"v.id_cliente\") == col(\"c.id_cliente\"), \"left\")\n",
    "    .join(dim_tienda.alias(\"t\"), col(\"v.id_tienda\") == col(\"t.id_tienda\"), \"left\")\n",
    "    .join(dim_producto.alias(\"p\"), col(\"v.id_producto\") == col(\"p.id_producto\"), \"left\")\n",
    "    .join(dim_tiempo.alias(\"d\"), to_date(col(\"v.fecha_venta\")) == col(\"d.fecha\"), \"left\")\n",
    "    # Selecciona y transforma las columnas necesarias para la tabla de hechos.\n",
    "    .select(\n",
    "        col(\"c.sk_cliente\"),\n",
    "        col(\"t.sk_tienda\"),\n",
    "        col(\"p.sk_producto\"),\n",
    "        col(\"d.sk_tiempo\"),\n",
    "        col(\"v.id_venta\").cast(LongType()),\n",
    "        col(\"v.cantidad\"),\n",
    "        col(\"v.monto_corregido\").cast(DecimalType(18,2)).alias(\"monto\"),\n",
    "        col(\"v.estado_monto\").alias(\"estado\"),\n",
    "        col(\"v.fecha_venta\"),\n",
    "        current_timestamp().alias(\"creation_date\")\n",
    "    )\n",
    ")"
   ]
  },
  {
   "cell_type": "code",
   "execution_count": 0,
   "metadata": {
    "application/vnd.databricks.v1+cell": {
     "cellMetadata": {
      "byteLimit": 2048000,
      "rowLimit": 10000
     },
     "inputWidgets": {},
     "nuid": "47b61469-eaf6-4c12-9622-ea5e81e12e00",
     "showTitle": false,
     "tableResultSettingsMap": {},
     "title": ""
    }
   },
   "outputs": [],
   "source": [
    "fact_ventas.write.format(\"delta\").mode(\"overwrite\").saveAsTable(f\"{catalog_name}.{schema_gold}.fact_ventas\")"
   ]
  },
  {
   "cell_type": "code",
   "execution_count": 0,
   "metadata": {
    "application/vnd.databricks.v1+cell": {
     "cellMetadata": {
      "byteLimit": 2048000,
      "rowLimit": 10000
     },
     "inputWidgets": {},
     "nuid": "87c9134b-d77f-4d4e-82f0-4f26f06dd953",
     "showTitle": false,
     "tableResultSettingsMap": {},
     "title": ""
    }
   },
   "outputs": [],
   "source": [
    "display(fact_ventas)"
   ]
  },
  {
   "cell_type": "code",
   "execution_count": 0,
   "metadata": {
    "application/vnd.databricks.v1+cell": {
     "cellMetadata": {
      "byteLimit": 2048000,
      "implicitDf": true,
      "rowLimit": 10000
     },
     "inputWidgets": {},
     "nuid": "34b7a916-3f96-4440-806f-a3896e6c61ca",
     "showTitle": false,
     "tableResultSettingsMap": {},
     "title": ""
    }
   },
   "outputs": [],
   "source": [
    "%sql\n",
    "-- OPTIMIZE reorganiza los archivos de la tabla para mejorar el rendimiento de las consultas.\n",
    "-- ZORDER BY (sk_cliente, sk_producto) organiza los datos físicamente para acelerar búsquedas por estas columnas.\n",
    "OPTIMIZE dmc_tallerfinaldatabricks_mariovento.gold.fact_ventas\n",
    "ZORDER BY (sk_cliente, sk_producto);\n",
    "\n",
    "-- VACUUM elimina archivos antiguos no referenciados, liberando espacio en disco.\n",
    "-- RETAIN 168 HOURS indica que se retendrán archivos de los últimos 7 días antes de ser eliminados.\n",
    "VACUUM dmc_tallerfinaldatabricks_mariovento.gold.fact_ventas RETAIN 168 HOURS; -- 7 días"
   ]
  },
  {
   "cell_type": "code",
   "execution_count": 0,
   "metadata": {
    "application/vnd.databricks.v1+cell": {
     "cellMetadata": {
      "byteLimit": 2048000,
      "implicitDf": true,
      "rowLimit": 10000
     },
     "inputWidgets": {},
     "nuid": "9728f064-3f05-4145-a3b9-97e7433af599",
     "showTitle": false,
     "tableResultSettingsMap": {},
     "title": ""
    }
   },
   "outputs": [],
   "source": [
    "%sql\n",
    "describe history dmc_tallerfinaldatabricks_mariovento.gold.fact_ventas"
   ]
  }
 ],
 "metadata": {
  "application/vnd.databricks.v1+notebook": {
   "computePreferences": null,
   "dashboards": [],
   "environmentMetadata": {
    "base_environment": "",
    "environment_version": "3"
   },
   "inputWidgetPreferences": null,
   "language": "python",
   "notebookMetadata": {
    "mostRecentlyExecutedCommandWithImplicitDF": {
     "commandId": 8862841121417522,
     "dataframes": [
      "_sqldf"
     ]
    },
    "pythonIndentUnit": 4
   },
   "notebookName": "Gold_FactVentas",
   "widgets": {}
  },
  "language_info": {
   "name": "python"
  }
 },
 "nbformat": 4,
 "nbformat_minor": 0
}
